{
 "cells": [
  {
   "cell_type": "markdown",
   "id": "1591a39e-6c13-43ab-b103-ab3090b33ea4",
   "metadata": {},
   "source": [
    "# CREDIT RISK ANALYSIS"
   ]
  },
  {
   "cell_type": "code",
   "execution_count": 2,
   "id": "e95734ee-381a-48a9-aaf9-671fdfdb72f9",
   "metadata": {},
   "outputs": [
    {
     "name": "stdout",
     "output_type": "stream",
     "text": [
      "Done\n"
     ]
    }
   ],
   "source": [
    "import pandas as pd # data manipulation\n",
    "import numpy as np # numerical calculations\n",
    "import seaborn as sns # statistical visualization\n",
    "import matplotlib.pyplot as plt # general plotting\n",
    "print('Done')"
   ]
  },
  {
   "cell_type": "markdown",
   "id": "b7f1d2cd-e680-4d4a-9414-291925ec6305",
   "metadata": {},
   "source": [
    "# loading data into dataframe"
   ]
  },
  {
   "cell_type": "code",
   "execution_count": 4,
   "id": "a6a7cb36-79b6-45ec-97f3-88b121ad662c",
   "metadata": {
    "scrolled": true
   },
   "outputs": [],
   "source": [
    "credit_risk_df = pd.read_excel(r\"C:\\Users\\user\\Desktop\\credit_risk_dataset.xlsx\") "
   ]
  },
  {
   "cell_type": "markdown",
   "id": "1943ba8f-a23e-4761-ac5c-bfb7d8f3e412",
   "metadata": {},
   "source": [
    "# Data Preview"
   ]
  },
  {
   "cell_type": "code",
   "execution_count": 6,
   "id": "bff6522b-e950-4249-a118-5d21375f6e1c",
   "metadata": {
    "scrolled": true
   },
   "outputs": [
    {
     "data": {
      "text/html": [
       "<div>\n",
       "<style scoped>\n",
       "    .dataframe tbody tr th:only-of-type {\n",
       "        vertical-align: middle;\n",
       "    }\n",
       "\n",
       "    .dataframe tbody tr th {\n",
       "        vertical-align: top;\n",
       "    }\n",
       "\n",
       "    .dataframe thead th {\n",
       "        text-align: right;\n",
       "    }\n",
       "</style>\n",
       "<table border=\"1\" class=\"dataframe\">\n",
       "  <thead>\n",
       "    <tr style=\"text-align: right;\">\n",
       "      <th></th>\n",
       "      <th>person_age</th>\n",
       "      <th>person_income</th>\n",
       "      <th>person_home_ownership</th>\n",
       "      <th>person_emp_length</th>\n",
       "      <th>loan_intent</th>\n",
       "      <th>loan_grade</th>\n",
       "      <th>loan_amnt</th>\n",
       "      <th>loan_int_rate</th>\n",
       "      <th>loan_status</th>\n",
       "      <th>loan_percent_income</th>\n",
       "      <th>historical_default</th>\n",
       "      <th>credit_history_length</th>\n",
       "    </tr>\n",
       "  </thead>\n",
       "  <tbody>\n",
       "    <tr>\n",
       "      <th>0</th>\n",
       "      <td>22</td>\n",
       "      <td>59000</td>\n",
       "      <td>RENT</td>\n",
       "      <td>123.0</td>\n",
       "      <td>PERSONAL</td>\n",
       "      <td>D</td>\n",
       "      <td>35000</td>\n",
       "      <td>16.02</td>\n",
       "      <td>1</td>\n",
       "      <td>0.59</td>\n",
       "      <td>Y</td>\n",
       "      <td>3</td>\n",
       "    </tr>\n",
       "    <tr>\n",
       "      <th>1</th>\n",
       "      <td>21</td>\n",
       "      <td>9600</td>\n",
       "      <td>OWN</td>\n",
       "      <td>5.0</td>\n",
       "      <td>EDUCATION</td>\n",
       "      <td>B</td>\n",
       "      <td>1000</td>\n",
       "      <td>11.14</td>\n",
       "      <td>0</td>\n",
       "      <td>0.10</td>\n",
       "      <td>N</td>\n",
       "      <td>2</td>\n",
       "    </tr>\n",
       "    <tr>\n",
       "      <th>2</th>\n",
       "      <td>25</td>\n",
       "      <td>9600</td>\n",
       "      <td>MORTGAGE</td>\n",
       "      <td>1.0</td>\n",
       "      <td>MEDICAL</td>\n",
       "      <td>C</td>\n",
       "      <td>5500</td>\n",
       "      <td>12.87</td>\n",
       "      <td>1</td>\n",
       "      <td>0.57</td>\n",
       "      <td>N</td>\n",
       "      <td>3</td>\n",
       "    </tr>\n",
       "    <tr>\n",
       "      <th>3</th>\n",
       "      <td>23</td>\n",
       "      <td>65500</td>\n",
       "      <td>RENT</td>\n",
       "      <td>4.0</td>\n",
       "      <td>MEDICAL</td>\n",
       "      <td>C</td>\n",
       "      <td>35000</td>\n",
       "      <td>15.23</td>\n",
       "      <td>1</td>\n",
       "      <td>0.53</td>\n",
       "      <td>N</td>\n",
       "      <td>2</td>\n",
       "    </tr>\n",
       "    <tr>\n",
       "      <th>4</th>\n",
       "      <td>24</td>\n",
       "      <td>54400</td>\n",
       "      <td>RENT</td>\n",
       "      <td>8.0</td>\n",
       "      <td>MEDICAL</td>\n",
       "      <td>C</td>\n",
       "      <td>35000</td>\n",
       "      <td>14.27</td>\n",
       "      <td>1</td>\n",
       "      <td>0.55</td>\n",
       "      <td>Y</td>\n",
       "      <td>4</td>\n",
       "    </tr>\n",
       "  </tbody>\n",
       "</table>\n",
       "</div>"
      ],
      "text/plain": [
       "   person_age  person_income person_home_ownership  person_emp_length  \\\n",
       "0          22          59000                  RENT              123.0   \n",
       "1          21           9600                   OWN                5.0   \n",
       "2          25           9600              MORTGAGE                1.0   \n",
       "3          23          65500                  RENT                4.0   \n",
       "4          24          54400                  RENT                8.0   \n",
       "\n",
       "  loan_intent loan_grade  loan_amnt  loan_int_rate  loan_status  \\\n",
       "0    PERSONAL          D      35000          16.02            1   \n",
       "1   EDUCATION          B       1000          11.14            0   \n",
       "2     MEDICAL          C       5500          12.87            1   \n",
       "3     MEDICAL          C      35000          15.23            1   \n",
       "4     MEDICAL          C      35000          14.27            1   \n",
       "\n",
       "   loan_percent_income historical_default  credit_history_length  \n",
       "0                 0.59                  Y                      3  \n",
       "1                 0.10                  N                      2  \n",
       "2                 0.57                  N                      3  \n",
       "3                 0.53                  N                      2  \n",
       "4                 0.55                  Y                      4  "
      ]
     },
     "execution_count": 6,
     "metadata": {},
     "output_type": "execute_result"
    }
   ],
   "source": [
    "credit_risk_df.head() # preview data"
   ]
  },
  {
   "cell_type": "code",
   "execution_count": 7,
   "id": "1123af91-966f-440e-99ac-6e2ac0b09931",
   "metadata": {
    "scrolled": true
   },
   "outputs": [
    {
     "data": {
      "text/html": [
       "<div>\n",
       "<style scoped>\n",
       "    .dataframe tbody tr th:only-of-type {\n",
       "        vertical-align: middle;\n",
       "    }\n",
       "\n",
       "    .dataframe tbody tr th {\n",
       "        vertical-align: top;\n",
       "    }\n",
       "\n",
       "    .dataframe thead th {\n",
       "        text-align: right;\n",
       "    }\n",
       "</style>\n",
       "<table border=\"1\" class=\"dataframe\">\n",
       "  <thead>\n",
       "    <tr style=\"text-align: right;\">\n",
       "      <th></th>\n",
       "      <th>person_age</th>\n",
       "      <th>person_income</th>\n",
       "      <th>person_home_ownership</th>\n",
       "      <th>person_emp_length</th>\n",
       "      <th>loan_intent</th>\n",
       "      <th>loan_grade</th>\n",
       "      <th>loan_amnt</th>\n",
       "      <th>loan_int_rate</th>\n",
       "      <th>loan_status</th>\n",
       "      <th>loan_percent_income</th>\n",
       "      <th>historical_default</th>\n",
       "      <th>credit_history_length</th>\n",
       "    </tr>\n",
       "  </thead>\n",
       "  <tbody>\n",
       "    <tr>\n",
       "      <th>32576</th>\n",
       "      <td>57</td>\n",
       "      <td>53000</td>\n",
       "      <td>MORTGAGE</td>\n",
       "      <td>1.0</td>\n",
       "      <td>PERSONAL</td>\n",
       "      <td>C</td>\n",
       "      <td>5800</td>\n",
       "      <td>13.16</td>\n",
       "      <td>0</td>\n",
       "      <td>0.11</td>\n",
       "      <td>N</td>\n",
       "      <td>30</td>\n",
       "    </tr>\n",
       "    <tr>\n",
       "      <th>32577</th>\n",
       "      <td>54</td>\n",
       "      <td>120000</td>\n",
       "      <td>MORTGAGE</td>\n",
       "      <td>4.0</td>\n",
       "      <td>PERSONAL</td>\n",
       "      <td>A</td>\n",
       "      <td>17625</td>\n",
       "      <td>7.49</td>\n",
       "      <td>0</td>\n",
       "      <td>0.15</td>\n",
       "      <td>N</td>\n",
       "      <td>19</td>\n",
       "    </tr>\n",
       "    <tr>\n",
       "      <th>32578</th>\n",
       "      <td>65</td>\n",
       "      <td>76000</td>\n",
       "      <td>RENT</td>\n",
       "      <td>3.0</td>\n",
       "      <td>HOMEIMPROVEMENT</td>\n",
       "      <td>B</td>\n",
       "      <td>35000</td>\n",
       "      <td>10.99</td>\n",
       "      <td>1</td>\n",
       "      <td>0.46</td>\n",
       "      <td>N</td>\n",
       "      <td>28</td>\n",
       "    </tr>\n",
       "    <tr>\n",
       "      <th>32579</th>\n",
       "      <td>56</td>\n",
       "      <td>150000</td>\n",
       "      <td>MORTGAGE</td>\n",
       "      <td>5.0</td>\n",
       "      <td>PERSONAL</td>\n",
       "      <td>B</td>\n",
       "      <td>15000</td>\n",
       "      <td>11.48</td>\n",
       "      <td>0</td>\n",
       "      <td>0.10</td>\n",
       "      <td>N</td>\n",
       "      <td>26</td>\n",
       "    </tr>\n",
       "    <tr>\n",
       "      <th>32580</th>\n",
       "      <td>66</td>\n",
       "      <td>42000</td>\n",
       "      <td>RENT</td>\n",
       "      <td>2.0</td>\n",
       "      <td>MEDICAL</td>\n",
       "      <td>B</td>\n",
       "      <td>6475</td>\n",
       "      <td>9.99</td>\n",
       "      <td>0</td>\n",
       "      <td>0.15</td>\n",
       "      <td>N</td>\n",
       "      <td>30</td>\n",
       "    </tr>\n",
       "  </tbody>\n",
       "</table>\n",
       "</div>"
      ],
      "text/plain": [
       "       person_age  person_income person_home_ownership  person_emp_length  \\\n",
       "32576          57          53000              MORTGAGE                1.0   \n",
       "32577          54         120000              MORTGAGE                4.0   \n",
       "32578          65          76000                  RENT                3.0   \n",
       "32579          56         150000              MORTGAGE                5.0   \n",
       "32580          66          42000                  RENT                2.0   \n",
       "\n",
       "           loan_intent loan_grade  loan_amnt  loan_int_rate  loan_status  \\\n",
       "32576         PERSONAL          C       5800          13.16            0   \n",
       "32577         PERSONAL          A      17625           7.49            0   \n",
       "32578  HOMEIMPROVEMENT          B      35000          10.99            1   \n",
       "32579         PERSONAL          B      15000          11.48            0   \n",
       "32580          MEDICAL          B       6475           9.99            0   \n",
       "\n",
       "       loan_percent_income historical_default  credit_history_length  \n",
       "32576                 0.11                  N                     30  \n",
       "32577                 0.15                  N                     19  \n",
       "32578                 0.46                  N                     28  \n",
       "32579                 0.10                  N                     26  \n",
       "32580                 0.15                  N                     30  "
      ]
     },
     "execution_count": 7,
     "metadata": {},
     "output_type": "execute_result"
    }
   ],
   "source": [
    "credit_risk_df.tail() # preview data"
   ]
  },
  {
   "cell_type": "code",
   "execution_count": 8,
   "id": "14b4013c-e91d-4718-b1a2-370713f2aac7",
   "metadata": {},
   "outputs": [
    {
     "data": {
      "text/plain": [
       "(32581, 12)"
      ]
     },
     "execution_count": 8,
     "metadata": {},
     "output_type": "execute_result"
    }
   ],
   "source": [
    "credit_risk_df.shape # no of rows and columns"
   ]
  },
  {
   "cell_type": "code",
   "execution_count": 9,
   "id": "c75ece38-a9b1-4888-b94b-c9ab7e532009",
   "metadata": {},
   "outputs": [
    {
     "data": {
      "text/plain": [
       "Index(['person_age', 'person_income', 'person_home_ownership',\n",
       "       'person_emp_length', 'loan_intent', 'loan_grade', 'loan_amnt',\n",
       "       'loan_int_rate', 'loan_status', 'loan_percent_income',\n",
       "       'historical_default', 'credit_history_length'],\n",
       "      dtype='object')"
      ]
     },
     "execution_count": 9,
     "metadata": {},
     "output_type": "execute_result"
    }
   ],
   "source": [
    "credit_risk_df.columns # column names"
   ]
  },
  {
   "cell_type": "code",
   "execution_count": 10,
   "id": "212f655c-f67c-4eb8-b114-8b96fbe4fe6c",
   "metadata": {
    "scrolled": true
   },
   "outputs": [
    {
     "data": {
      "text/html": [
       "<div>\n",
       "<style scoped>\n",
       "    .dataframe tbody tr th:only-of-type {\n",
       "        vertical-align: middle;\n",
       "    }\n",
       "\n",
       "    .dataframe tbody tr th {\n",
       "        vertical-align: top;\n",
       "    }\n",
       "\n",
       "    .dataframe thead th {\n",
       "        text-align: right;\n",
       "    }\n",
       "</style>\n",
       "<table border=\"1\" class=\"dataframe\">\n",
       "  <thead>\n",
       "    <tr style=\"text-align: right;\">\n",
       "      <th></th>\n",
       "      <th>person_age</th>\n",
       "      <th>person_income</th>\n",
       "      <th>person_emp_length</th>\n",
       "      <th>loan_amnt</th>\n",
       "      <th>loan_int_rate</th>\n",
       "      <th>loan_status</th>\n",
       "      <th>loan_percent_income</th>\n",
       "      <th>credit_history_length</th>\n",
       "    </tr>\n",
       "  </thead>\n",
       "  <tbody>\n",
       "    <tr>\n",
       "      <th>count</th>\n",
       "      <td>32581.000000</td>\n",
       "      <td>3.258100e+04</td>\n",
       "      <td>31686.000000</td>\n",
       "      <td>32581.000000</td>\n",
       "      <td>29465.000000</td>\n",
       "      <td>32581.000000</td>\n",
       "      <td>32581.000000</td>\n",
       "      <td>32581.000000</td>\n",
       "    </tr>\n",
       "    <tr>\n",
       "      <th>mean</th>\n",
       "      <td>27.734600</td>\n",
       "      <td>6.607485e+04</td>\n",
       "      <td>4.789686</td>\n",
       "      <td>9589.371106</td>\n",
       "      <td>11.011695</td>\n",
       "      <td>0.218164</td>\n",
       "      <td>0.170203</td>\n",
       "      <td>5.804211</td>\n",
       "    </tr>\n",
       "    <tr>\n",
       "      <th>std</th>\n",
       "      <td>6.348078</td>\n",
       "      <td>6.198312e+04</td>\n",
       "      <td>4.142630</td>\n",
       "      <td>6322.086646</td>\n",
       "      <td>3.240459</td>\n",
       "      <td>0.413006</td>\n",
       "      <td>0.106782</td>\n",
       "      <td>4.055001</td>\n",
       "    </tr>\n",
       "    <tr>\n",
       "      <th>min</th>\n",
       "      <td>20.000000</td>\n",
       "      <td>4.000000e+03</td>\n",
       "      <td>0.000000</td>\n",
       "      <td>500.000000</td>\n",
       "      <td>5.420000</td>\n",
       "      <td>0.000000</td>\n",
       "      <td>0.000000</td>\n",
       "      <td>2.000000</td>\n",
       "    </tr>\n",
       "    <tr>\n",
       "      <th>25%</th>\n",
       "      <td>23.000000</td>\n",
       "      <td>3.850000e+04</td>\n",
       "      <td>2.000000</td>\n",
       "      <td>5000.000000</td>\n",
       "      <td>7.900000</td>\n",
       "      <td>0.000000</td>\n",
       "      <td>0.090000</td>\n",
       "      <td>3.000000</td>\n",
       "    </tr>\n",
       "    <tr>\n",
       "      <th>50%</th>\n",
       "      <td>26.000000</td>\n",
       "      <td>5.500000e+04</td>\n",
       "      <td>4.000000</td>\n",
       "      <td>8000.000000</td>\n",
       "      <td>10.990000</td>\n",
       "      <td>0.000000</td>\n",
       "      <td>0.150000</td>\n",
       "      <td>4.000000</td>\n",
       "    </tr>\n",
       "    <tr>\n",
       "      <th>75%</th>\n",
       "      <td>30.000000</td>\n",
       "      <td>7.920000e+04</td>\n",
       "      <td>7.000000</td>\n",
       "      <td>12200.000000</td>\n",
       "      <td>13.470000</td>\n",
       "      <td>0.000000</td>\n",
       "      <td>0.230000</td>\n",
       "      <td>8.000000</td>\n",
       "    </tr>\n",
       "    <tr>\n",
       "      <th>max</th>\n",
       "      <td>144.000000</td>\n",
       "      <td>6.000000e+06</td>\n",
       "      <td>123.000000</td>\n",
       "      <td>35000.000000</td>\n",
       "      <td>23.220000</td>\n",
       "      <td>1.000000</td>\n",
       "      <td>0.830000</td>\n",
       "      <td>30.000000</td>\n",
       "    </tr>\n",
       "  </tbody>\n",
       "</table>\n",
       "</div>"
      ],
      "text/plain": [
       "         person_age  person_income  person_emp_length     loan_amnt  \\\n",
       "count  32581.000000   3.258100e+04       31686.000000  32581.000000   \n",
       "mean      27.734600   6.607485e+04           4.789686   9589.371106   \n",
       "std        6.348078   6.198312e+04           4.142630   6322.086646   \n",
       "min       20.000000   4.000000e+03           0.000000    500.000000   \n",
       "25%       23.000000   3.850000e+04           2.000000   5000.000000   \n",
       "50%       26.000000   5.500000e+04           4.000000   8000.000000   \n",
       "75%       30.000000   7.920000e+04           7.000000  12200.000000   \n",
       "max      144.000000   6.000000e+06         123.000000  35000.000000   \n",
       "\n",
       "       loan_int_rate   loan_status  loan_percent_income  credit_history_length  \n",
       "count   29465.000000  32581.000000         32581.000000           32581.000000  \n",
       "mean       11.011695      0.218164             0.170203               5.804211  \n",
       "std         3.240459      0.413006             0.106782               4.055001  \n",
       "min         5.420000      0.000000             0.000000               2.000000  \n",
       "25%         7.900000      0.000000             0.090000               3.000000  \n",
       "50%        10.990000      0.000000             0.150000               4.000000  \n",
       "75%        13.470000      0.000000             0.230000               8.000000  \n",
       "max        23.220000      1.000000             0.830000              30.000000  "
      ]
     },
     "execution_count": 10,
     "metadata": {},
     "output_type": "execute_result"
    }
   ],
   "source": [
    "credit_risk_df.describe() # summary statistics"
   ]
  },
  {
   "cell_type": "code",
   "execution_count": 11,
   "id": "875f5903-33a4-408e-9003-f5bd9f27e1a1",
   "metadata": {
    "scrolled": true
   },
   "outputs": [
    {
     "name": "stdout",
     "output_type": "stream",
     "text": [
      "<class 'pandas.core.frame.DataFrame'>\n",
      "RangeIndex: 32581 entries, 0 to 32580\n",
      "Data columns (total 12 columns):\n",
      " #   Column                 Non-Null Count  Dtype  \n",
      "---  ------                 --------------  -----  \n",
      " 0   person_age             32581 non-null  int64  \n",
      " 1   person_income          32581 non-null  int64  \n",
      " 2   person_home_ownership  32581 non-null  object \n",
      " 3   person_emp_length      31686 non-null  float64\n",
      " 4   loan_intent            32581 non-null  object \n",
      " 5   loan_grade             32581 non-null  object \n",
      " 6   loan_amnt              32581 non-null  int64  \n",
      " 7   loan_int_rate          29465 non-null  float64\n",
      " 8   loan_status            32581 non-null  int64  \n",
      " 9   loan_percent_income    32581 non-null  float64\n",
      " 10  historical_default     32581 non-null  object \n",
      " 11  credit_history_length  32581 non-null  int64  \n",
      "dtypes: float64(3), int64(5), object(4)\n",
      "memory usage: 3.0+ MB\n"
     ]
    }
   ],
   "source": [
    "credit_risk_df.info() # checks data types and missing values"
   ]
  },
  {
   "cell_type": "code",
   "execution_count": 12,
   "id": "707fb899-ec12-47b9-bb6f-9e6dfb033207",
   "metadata": {},
   "outputs": [
    {
     "data": {
      "text/plain": [
       "person_age                  0\n",
       "person_income               0\n",
       "person_home_ownership       0\n",
       "person_emp_length         895\n",
       "loan_intent                 0\n",
       "loan_grade                  0\n",
       "loan_amnt                   0\n",
       "loan_int_rate            3116\n",
       "loan_status                 0\n",
       "loan_percent_income         0\n",
       "historical_default          0\n",
       "credit_history_length       0\n",
       "dtype: int64"
      ]
     },
     "execution_count": 12,
     "metadata": {},
     "output_type": "execute_result"
    }
   ],
   "source": [
    "credit_risk_df.isnull().sum() # number of missing values per column"
   ]
  },
  {
   "cell_type": "code",
   "execution_count": 13,
   "id": "38f92c78-f7ea-48f7-b9c9-070aeca1697a",
   "metadata": {},
   "outputs": [
    {
     "data": {
      "text/plain": [
       "165"
      ]
     },
     "execution_count": 13,
     "metadata": {},
     "output_type": "execute_result"
    }
   ],
   "source": [
    "credit_risk_df.duplicated().sum() # number of duplicated rows"
   ]
  },
  {
   "cell_type": "code",
   "execution_count": 14,
   "id": "9ccb20bf-4ffe-4567-af00-4966d8038a12",
   "metadata": {},
   "outputs": [
    {
     "data": {
      "text/plain": [
       "person_age                 58\n",
       "person_income            4295\n",
       "person_home_ownership       4\n",
       "person_emp_length          36\n",
       "loan_intent                 6\n",
       "loan_grade                  7\n",
       "loan_amnt                 753\n",
       "loan_int_rate             348\n",
       "loan_status                 2\n",
       "loan_percent_income        77\n",
       "historical_default          2\n",
       "credit_history_length      29\n",
       "dtype: int64"
      ]
     },
     "execution_count": 14,
     "metadata": {},
     "output_type": "execute_result"
    }
   ],
   "source": [
    "credit_risk_df.nunique() # number of unique entries per column"
   ]
  },
  {
   "cell_type": "markdown",
   "id": "82990957-a1cc-421b-b290-32659375f75f",
   "metadata": {},
   "source": [
    "# Data Cleaning"
   ]
  },
  {
   "cell_type": "markdown",
   "id": "2a4db943-fb37-4047-9e12-d304699e3558",
   "metadata": {},
   "source": [
    "# 1. Handling Duplicates"
   ]
  },
  {
   "cell_type": "code",
   "execution_count": 17,
   "id": "73aa3eb1-aa7a-49b9-8ab0-1b96a44f665f",
   "metadata": {},
   "outputs": [
    {
     "data": {
      "text/html": [
       "<div>\n",
       "<style scoped>\n",
       "    .dataframe tbody tr th:only-of-type {\n",
       "        vertical-align: middle;\n",
       "    }\n",
       "\n",
       "    .dataframe tbody tr th {\n",
       "        vertical-align: top;\n",
       "    }\n",
       "\n",
       "    .dataframe thead th {\n",
       "        text-align: right;\n",
       "    }\n",
       "</style>\n",
       "<table border=\"1\" class=\"dataframe\">\n",
       "  <thead>\n",
       "    <tr style=\"text-align: right;\">\n",
       "      <th></th>\n",
       "      <th>person_age</th>\n",
       "      <th>person_income</th>\n",
       "      <th>person_home_ownership</th>\n",
       "      <th>person_emp_length</th>\n",
       "      <th>loan_intent</th>\n",
       "      <th>loan_grade</th>\n",
       "      <th>loan_amnt</th>\n",
       "      <th>loan_int_rate</th>\n",
       "      <th>loan_status</th>\n",
       "      <th>loan_percent_income</th>\n",
       "      <th>historical_default</th>\n",
       "      <th>credit_history_length</th>\n",
       "    </tr>\n",
       "  </thead>\n",
       "  <tbody>\n",
       "    <tr>\n",
       "      <th>14</th>\n",
       "      <td>23</td>\n",
       "      <td>115000</td>\n",
       "      <td>RENT</td>\n",
       "      <td>2.0</td>\n",
       "      <td>EDUCATION</td>\n",
       "      <td>A</td>\n",
       "      <td>35000</td>\n",
       "      <td>7.90</td>\n",
       "      <td>0</td>\n",
       "      <td>0.30</td>\n",
       "      <td>N</td>\n",
       "      <td>4</td>\n",
       "    </tr>\n",
       "    <tr>\n",
       "      <th>238</th>\n",
       "      <td>22</td>\n",
       "      <td>183000</td>\n",
       "      <td>MORTGAGE</td>\n",
       "      <td>3.0</td>\n",
       "      <td>EDUCATION</td>\n",
       "      <td>A</td>\n",
       "      <td>1000</td>\n",
       "      <td>NaN</td>\n",
       "      <td>0</td>\n",
       "      <td>0.01</td>\n",
       "      <td>N</td>\n",
       "      <td>2</td>\n",
       "    </tr>\n",
       "    <tr>\n",
       "      <th>252</th>\n",
       "      <td>24</td>\n",
       "      <td>85000</td>\n",
       "      <td>RENT</td>\n",
       "      <td>5.0</td>\n",
       "      <td>MEDICAL</td>\n",
       "      <td>B</td>\n",
       "      <td>25000</td>\n",
       "      <td>10.62</td>\n",
       "      <td>0</td>\n",
       "      <td>0.29</td>\n",
       "      <td>N</td>\n",
       "      <td>4</td>\n",
       "    </tr>\n",
       "    <tr>\n",
       "      <th>591</th>\n",
       "      <td>26</td>\n",
       "      <td>20000</td>\n",
       "      <td>MORTGAGE</td>\n",
       "      <td>5.0</td>\n",
       "      <td>MEDICAL</td>\n",
       "      <td>A</td>\n",
       "      <td>4800</td>\n",
       "      <td>5.99</td>\n",
       "      <td>0</td>\n",
       "      <td>0.24</td>\n",
       "      <td>N</td>\n",
       "      <td>3</td>\n",
       "    </tr>\n",
       "    <tr>\n",
       "      <th>740</th>\n",
       "      <td>21</td>\n",
       "      <td>21600</td>\n",
       "      <td>OWN</td>\n",
       "      <td>NaN</td>\n",
       "      <td>VENTURE</td>\n",
       "      <td>A</td>\n",
       "      <td>7125</td>\n",
       "      <td>6.99</td>\n",
       "      <td>0</td>\n",
       "      <td>0.33</td>\n",
       "      <td>N</td>\n",
       "      <td>3</td>\n",
       "    </tr>\n",
       "    <tr>\n",
       "      <th>...</th>\n",
       "      <td>...</td>\n",
       "      <td>...</td>\n",
       "      <td>...</td>\n",
       "      <td>...</td>\n",
       "      <td>...</td>\n",
       "      <td>...</td>\n",
       "      <td>...</td>\n",
       "      <td>...</td>\n",
       "      <td>...</td>\n",
       "      <td>...</td>\n",
       "      <td>...</td>\n",
       "      <td>...</td>\n",
       "    </tr>\n",
       "    <tr>\n",
       "      <th>32010</th>\n",
       "      <td>42</td>\n",
       "      <td>39996</td>\n",
       "      <td>MORTGAGE</td>\n",
       "      <td>2.0</td>\n",
       "      <td>HOMEIMPROVEMENT</td>\n",
       "      <td>A</td>\n",
       "      <td>2500</td>\n",
       "      <td>5.42</td>\n",
       "      <td>0</td>\n",
       "      <td>0.06</td>\n",
       "      <td>N</td>\n",
       "      <td>12</td>\n",
       "    </tr>\n",
       "    <tr>\n",
       "      <th>32047</th>\n",
       "      <td>36</td>\n",
       "      <td>250000</td>\n",
       "      <td>RENT</td>\n",
       "      <td>2.0</td>\n",
       "      <td>DEBTCONSOLIDATION</td>\n",
       "      <td>A</td>\n",
       "      <td>20000</td>\n",
       "      <td>7.88</td>\n",
       "      <td>0</td>\n",
       "      <td>0.08</td>\n",
       "      <td>N</td>\n",
       "      <td>17</td>\n",
       "    </tr>\n",
       "    <tr>\n",
       "      <th>32172</th>\n",
       "      <td>49</td>\n",
       "      <td>120000</td>\n",
       "      <td>MORTGAGE</td>\n",
       "      <td>12.0</td>\n",
       "      <td>MEDICAL</td>\n",
       "      <td>B</td>\n",
       "      <td>12000</td>\n",
       "      <td>10.99</td>\n",
       "      <td>0</td>\n",
       "      <td>0.10</td>\n",
       "      <td>N</td>\n",
       "      <td>12</td>\n",
       "    </tr>\n",
       "    <tr>\n",
       "      <th>32259</th>\n",
       "      <td>39</td>\n",
       "      <td>40000</td>\n",
       "      <td>OWN</td>\n",
       "      <td>4.0</td>\n",
       "      <td>VENTURE</td>\n",
       "      <td>B</td>\n",
       "      <td>1000</td>\n",
       "      <td>10.37</td>\n",
       "      <td>0</td>\n",
       "      <td>0.03</td>\n",
       "      <td>N</td>\n",
       "      <td>16</td>\n",
       "    </tr>\n",
       "    <tr>\n",
       "      <th>32279</th>\n",
       "      <td>43</td>\n",
       "      <td>11340</td>\n",
       "      <td>RENT</td>\n",
       "      <td>4.0</td>\n",
       "      <td>EDUCATION</td>\n",
       "      <td>C</td>\n",
       "      <td>1950</td>\n",
       "      <td>NaN</td>\n",
       "      <td>1</td>\n",
       "      <td>0.17</td>\n",
       "      <td>N</td>\n",
       "      <td>11</td>\n",
       "    </tr>\n",
       "  </tbody>\n",
       "</table>\n",
       "<p>330 rows × 12 columns</p>\n",
       "</div>"
      ],
      "text/plain": [
       "       person_age  person_income person_home_ownership  person_emp_length  \\\n",
       "14             23         115000                  RENT                2.0   \n",
       "238            22         183000              MORTGAGE                3.0   \n",
       "252            24          85000                  RENT                5.0   \n",
       "591            26          20000              MORTGAGE                5.0   \n",
       "740            21          21600                   OWN                NaN   \n",
       "...           ...            ...                   ...                ...   \n",
       "32010          42          39996              MORTGAGE                2.0   \n",
       "32047          36         250000                  RENT                2.0   \n",
       "32172          49         120000              MORTGAGE               12.0   \n",
       "32259          39          40000                   OWN                4.0   \n",
       "32279          43          11340                  RENT                4.0   \n",
       "\n",
       "             loan_intent loan_grade  loan_amnt  loan_int_rate  loan_status  \\\n",
       "14             EDUCATION          A      35000           7.90            0   \n",
       "238            EDUCATION          A       1000            NaN            0   \n",
       "252              MEDICAL          B      25000          10.62            0   \n",
       "591              MEDICAL          A       4800           5.99            0   \n",
       "740              VENTURE          A       7125           6.99            0   \n",
       "...                  ...        ...        ...            ...          ...   \n",
       "32010    HOMEIMPROVEMENT          A       2500           5.42            0   \n",
       "32047  DEBTCONSOLIDATION          A      20000           7.88            0   \n",
       "32172            MEDICAL          B      12000          10.99            0   \n",
       "32259            VENTURE          B       1000          10.37            0   \n",
       "32279          EDUCATION          C       1950            NaN            1   \n",
       "\n",
       "       loan_percent_income historical_default  credit_history_length  \n",
       "14                    0.30                  N                      4  \n",
       "238                   0.01                  N                      2  \n",
       "252                   0.29                  N                      4  \n",
       "591                   0.24                  N                      3  \n",
       "740                   0.33                  N                      3  \n",
       "...                    ...                ...                    ...  \n",
       "32010                 0.06                  N                     12  \n",
       "32047                 0.08                  N                     17  \n",
       "32172                 0.10                  N                     12  \n",
       "32259                 0.03                  N                     16  \n",
       "32279                 0.17                  N                     11  \n",
       "\n",
       "[330 rows x 12 columns]"
      ]
     },
     "execution_count": 17,
     "metadata": {},
     "output_type": "execute_result"
    }
   ],
   "source": [
    "\n",
    "duplicates = credit_risk_df[credit_risk_df.duplicated(keep=False)] # shows both occurences\n",
    "duplicates"
   ]
  },
  {
   "cell_type": "code",
   "execution_count": 18,
   "id": "235ea94f-1c6b-4dc7-a0ad-65d873b3208d",
   "metadata": {
    "scrolled": true
   },
   "outputs": [
    {
     "data": {
      "text/html": [
       "<div>\n",
       "<style scoped>\n",
       "    .dataframe tbody tr th:only-of-type {\n",
       "        vertical-align: middle;\n",
       "    }\n",
       "\n",
       "    .dataframe tbody tr th {\n",
       "        vertical-align: top;\n",
       "    }\n",
       "\n",
       "    .dataframe thead th {\n",
       "        text-align: right;\n",
       "    }\n",
       "</style>\n",
       "<table border=\"1\" class=\"dataframe\">\n",
       "  <thead>\n",
       "    <tr style=\"text-align: right;\">\n",
       "      <th></th>\n",
       "      <th>person_age</th>\n",
       "      <th>person_income</th>\n",
       "      <th>person_home_ownership</th>\n",
       "      <th>person_emp_length</th>\n",
       "      <th>loan_intent</th>\n",
       "      <th>loan_grade</th>\n",
       "      <th>loan_amnt</th>\n",
       "      <th>loan_int_rate</th>\n",
       "      <th>loan_status</th>\n",
       "      <th>loan_percent_income</th>\n",
       "      <th>historical_default</th>\n",
       "      <th>credit_history_length</th>\n",
       "    </tr>\n",
       "  </thead>\n",
       "  <tbody>\n",
       "    <tr>\n",
       "      <th>15944</th>\n",
       "      <td>21</td>\n",
       "      <td>8088</td>\n",
       "      <td>RENT</td>\n",
       "      <td>NaN</td>\n",
       "      <td>MEDICAL</td>\n",
       "      <td>C</td>\n",
       "      <td>1200</td>\n",
       "      <td>15.23</td>\n",
       "      <td>0</td>\n",
       "      <td>0.15</td>\n",
       "      <td>Y</td>\n",
       "      <td>2</td>\n",
       "    </tr>\n",
       "    <tr>\n",
       "      <th>16835</th>\n",
       "      <td>21</td>\n",
       "      <td>8088</td>\n",
       "      <td>RENT</td>\n",
       "      <td>NaN</td>\n",
       "      <td>MEDICAL</td>\n",
       "      <td>C</td>\n",
       "      <td>1200</td>\n",
       "      <td>15.23</td>\n",
       "      <td>0</td>\n",
       "      <td>0.15</td>\n",
       "      <td>Y</td>\n",
       "      <td>2</td>\n",
       "    </tr>\n",
       "    <tr>\n",
       "      <th>2431</th>\n",
       "      <td>21</td>\n",
       "      <td>15600</td>\n",
       "      <td>RENT</td>\n",
       "      <td>0.0</td>\n",
       "      <td>MEDICAL</td>\n",
       "      <td>A</td>\n",
       "      <td>2800</td>\n",
       "      <td>7.40</td>\n",
       "      <td>1</td>\n",
       "      <td>0.18</td>\n",
       "      <td>N</td>\n",
       "      <td>4</td>\n",
       "    </tr>\n",
       "    <tr>\n",
       "      <th>17758</th>\n",
       "      <td>21</td>\n",
       "      <td>15600</td>\n",
       "      <td>RENT</td>\n",
       "      <td>0.0</td>\n",
       "      <td>MEDICAL</td>\n",
       "      <td>A</td>\n",
       "      <td>2800</td>\n",
       "      <td>7.40</td>\n",
       "      <td>1</td>\n",
       "      <td>0.18</td>\n",
       "      <td>N</td>\n",
       "      <td>4</td>\n",
       "    </tr>\n",
       "    <tr>\n",
       "      <th>2498</th>\n",
       "      <td>21</td>\n",
       "      <td>18000</td>\n",
       "      <td>RENT</td>\n",
       "      <td>0.0</td>\n",
       "      <td>DEBTCONSOLIDATION</td>\n",
       "      <td>A</td>\n",
       "      <td>3000</td>\n",
       "      <td>7.90</td>\n",
       "      <td>1</td>\n",
       "      <td>0.17</td>\n",
       "      <td>N</td>\n",
       "      <td>2</td>\n",
       "    </tr>\n",
       "    <tr>\n",
       "      <th>...</th>\n",
       "      <td>...</td>\n",
       "      <td>...</td>\n",
       "      <td>...</td>\n",
       "      <td>...</td>\n",
       "      <td>...</td>\n",
       "      <td>...</td>\n",
       "      <td>...</td>\n",
       "      <td>...</td>\n",
       "      <td>...</td>\n",
       "      <td>...</td>\n",
       "      <td>...</td>\n",
       "      <td>...</td>\n",
       "    </tr>\n",
       "    <tr>\n",
       "      <th>32010</th>\n",
       "      <td>42</td>\n",
       "      <td>39996</td>\n",
       "      <td>MORTGAGE</td>\n",
       "      <td>2.0</td>\n",
       "      <td>HOMEIMPROVEMENT</td>\n",
       "      <td>A</td>\n",
       "      <td>2500</td>\n",
       "      <td>5.42</td>\n",
       "      <td>0</td>\n",
       "      <td>0.06</td>\n",
       "      <td>N</td>\n",
       "      <td>12</td>\n",
       "    </tr>\n",
       "    <tr>\n",
       "      <th>29484</th>\n",
       "      <td>43</td>\n",
       "      <td>11340</td>\n",
       "      <td>RENT</td>\n",
       "      <td>4.0</td>\n",
       "      <td>EDUCATION</td>\n",
       "      <td>C</td>\n",
       "      <td>1950</td>\n",
       "      <td>NaN</td>\n",
       "      <td>1</td>\n",
       "      <td>0.17</td>\n",
       "      <td>N</td>\n",
       "      <td>11</td>\n",
       "    </tr>\n",
       "    <tr>\n",
       "      <th>32279</th>\n",
       "      <td>43</td>\n",
       "      <td>11340</td>\n",
       "      <td>RENT</td>\n",
       "      <td>4.0</td>\n",
       "      <td>EDUCATION</td>\n",
       "      <td>C</td>\n",
       "      <td>1950</td>\n",
       "      <td>NaN</td>\n",
       "      <td>1</td>\n",
       "      <td>0.17</td>\n",
       "      <td>N</td>\n",
       "      <td>11</td>\n",
       "    </tr>\n",
       "    <tr>\n",
       "      <th>31676</th>\n",
       "      <td>49</td>\n",
       "      <td>120000</td>\n",
       "      <td>MORTGAGE</td>\n",
       "      <td>12.0</td>\n",
       "      <td>MEDICAL</td>\n",
       "      <td>B</td>\n",
       "      <td>12000</td>\n",
       "      <td>10.99</td>\n",
       "      <td>0</td>\n",
       "      <td>0.10</td>\n",
       "      <td>N</td>\n",
       "      <td>12</td>\n",
       "    </tr>\n",
       "    <tr>\n",
       "      <th>32172</th>\n",
       "      <td>49</td>\n",
       "      <td>120000</td>\n",
       "      <td>MORTGAGE</td>\n",
       "      <td>12.0</td>\n",
       "      <td>MEDICAL</td>\n",
       "      <td>B</td>\n",
       "      <td>12000</td>\n",
       "      <td>10.99</td>\n",
       "      <td>0</td>\n",
       "      <td>0.10</td>\n",
       "      <td>N</td>\n",
       "      <td>12</td>\n",
       "    </tr>\n",
       "  </tbody>\n",
       "</table>\n",
       "<p>330 rows × 12 columns</p>\n",
       "</div>"
      ],
      "text/plain": [
       "       person_age  person_income person_home_ownership  person_emp_length  \\\n",
       "15944          21           8088                  RENT                NaN   \n",
       "16835          21           8088                  RENT                NaN   \n",
       "2431           21          15600                  RENT                0.0   \n",
       "17758          21          15600                  RENT                0.0   \n",
       "2498           21          18000                  RENT                0.0   \n",
       "...           ...            ...                   ...                ...   \n",
       "32010          42          39996              MORTGAGE                2.0   \n",
       "29484          43          11340                  RENT                4.0   \n",
       "32279          43          11340                  RENT                4.0   \n",
       "31676          49         120000              MORTGAGE               12.0   \n",
       "32172          49         120000              MORTGAGE               12.0   \n",
       "\n",
       "             loan_intent loan_grade  loan_amnt  loan_int_rate  loan_status  \\\n",
       "15944            MEDICAL          C       1200          15.23            0   \n",
       "16835            MEDICAL          C       1200          15.23            0   \n",
       "2431             MEDICAL          A       2800           7.40            1   \n",
       "17758            MEDICAL          A       2800           7.40            1   \n",
       "2498   DEBTCONSOLIDATION          A       3000           7.90            1   \n",
       "...                  ...        ...        ...            ...          ...   \n",
       "32010    HOMEIMPROVEMENT          A       2500           5.42            0   \n",
       "29484          EDUCATION          C       1950            NaN            1   \n",
       "32279          EDUCATION          C       1950            NaN            1   \n",
       "31676            MEDICAL          B      12000          10.99            0   \n",
       "32172            MEDICAL          B      12000          10.99            0   \n",
       "\n",
       "       loan_percent_income historical_default  credit_history_length  \n",
       "15944                 0.15                  Y                      2  \n",
       "16835                 0.15                  Y                      2  \n",
       "2431                  0.18                  N                      4  \n",
       "17758                 0.18                  N                      4  \n",
       "2498                  0.17                  N                      2  \n",
       "...                    ...                ...                    ...  \n",
       "32010                 0.06                  N                     12  \n",
       "29484                 0.17                  N                     11  \n",
       "32279                 0.17                  N                     11  \n",
       "31676                 0.10                  N                     12  \n",
       "32172                 0.10                  N                     12  \n",
       "\n",
       "[330 rows x 12 columns]"
      ]
     },
     "execution_count": 18,
     "metadata": {},
     "output_type": "execute_result"
    }
   ],
   "source": [
    "credit_risk_df[credit_risk_df.duplicated(keep=False)].sort_values(by=credit_risk_df.columns.tolist()) # groupd matching rows together\n"
   ]
  },
  {
   "cell_type": "code",
   "execution_count": 19,
   "id": "7697eb63-19e4-4e4c-9b99-feedd0057b4b",
   "metadata": {},
   "outputs": [],
   "source": [
    "credit_risk_df[credit_risk_df.duplicated(keep=False)] .sort_values(by=credit_risk_df.columns.tolist()) .to_csv(\"duplicates_review.csv\", index=False) # exports to csv for better visiualization\n"
   ]
  },
  {
   "cell_type": "code",
   "execution_count": 20,
   "id": "ca638c1c-e6a0-48c0-adb2-5155ab57f906",
   "metadata": {},
   "outputs": [],
   "source": [
    "credit_risk_df = credit_risk_df[~credit_risk_df.duplicated(keep='first')] # eliminating the second occurence of the duplicate\n",
    "# drop.duplicates(credit_risk_df) straight away drops duplicates"
   ]
  },
  {
   "cell_type": "code",
   "execution_count": 21,
   "id": "7c801107-25d7-4c40-9cc8-71e924571cbe",
   "metadata": {},
   "outputs": [
    {
     "data": {
      "text/plain": [
       "0"
      ]
     },
     "execution_count": 21,
     "metadata": {},
     "output_type": "execute_result"
    }
   ],
   "source": [
    "credit_risk_df.duplicated().sum()"
   ]
  },
  {
   "cell_type": "code",
   "execution_count": 22,
   "id": "d8fdac21-c40d-486f-b575-3b26d6cd5e5e",
   "metadata": {},
   "outputs": [
    {
     "data": {
      "text/plain": [
       "(32416, 12)"
      ]
     },
     "execution_count": 22,
     "metadata": {},
     "output_type": "execute_result"
    }
   ],
   "source": [
    "credit_risk_df.shape"
   ]
  },
  {
   "cell_type": "markdown",
   "id": "c16988d5-9bbe-4ac3-9126-ceb7e75a24a0",
   "metadata": {},
   "source": [
    "# 2. Handling missing values"
   ]
  },
  {
   "cell_type": "code",
   "execution_count": 24,
   "id": "6cc62891-9d69-49cb-aa95-ecab942affa2",
   "metadata": {},
   "outputs": [
    {
     "name": "stderr",
     "output_type": "stream",
     "text": [
      "C:\\Users\\user\\AppData\\Local\\Temp\\ipykernel_11932\\4121805472.py:2: FutureWarning: A value is trying to be set on a copy of a DataFrame or Series through chained assignment using an inplace method.\n",
      "The behavior will change in pandas 3.0. This inplace method will never work because the intermediate object on which we are setting values always behaves as a copy.\n",
      "\n",
      "For example, when doing 'df[col].method(value, inplace=True)', try using 'df.method({col: value}, inplace=True)' or df[col] = df[col].method(value) instead, to perform the operation inplace on the original object.\n",
      "\n",
      "\n",
      "  credit_risk_df['loan_int_rate'].fillna(credit_risk_df['loan_int_rate'].mean(), inplace=True)\n"
     ]
    }
   ],
   "source": [
    "#filling in the interest rate missing values with mean\n",
    "credit_risk_df['loan_int_rate'].fillna(credit_risk_df['loan_int_rate'].mean(), inplace=True)\n"
   ]
  },
  {
   "cell_type": "code",
   "execution_count": 25,
   "id": "827b6593-20db-44d4-8bc3-34f6a195bda5",
   "metadata": {},
   "outputs": [
    {
     "name": "stderr",
     "output_type": "stream",
     "text": [
      "C:\\Users\\user\\AppData\\Local\\Temp\\ipykernel_11932\\907150007.py:1: FutureWarning: A value is trying to be set on a copy of a DataFrame or Series through chained assignment using an inplace method.\n",
      "The behavior will change in pandas 3.0. This inplace method will never work because the intermediate object on which we are setting values always behaves as a copy.\n",
      "\n",
      "For example, when doing 'df[col].method(value, inplace=True)', try using 'df.method({col: value}, inplace=True)' or df[col] = df[col].method(value) instead, to perform the operation inplace on the original object.\n",
      "\n",
      "\n",
      "  credit_risk_df['person_emp_length'].fillna(credit_risk_df['person_emp_length'].mean(), inplace=True)\n"
     ]
    }
   ],
   "source": [
    "credit_risk_df['person_emp_length'].fillna(credit_risk_df['person_emp_length'].mean(), inplace=True)\n"
   ]
  },
  {
   "cell_type": "code",
   "execution_count": 26,
   "id": "2cb4cdf3-b294-4fdf-85aa-5d2dd9f3a148",
   "metadata": {},
   "outputs": [
    {
     "data": {
      "text/plain": [
       "person_age               0\n",
       "person_income            0\n",
       "person_home_ownership    0\n",
       "person_emp_length        0\n",
       "loan_intent              0\n",
       "loan_grade               0\n",
       "loan_amnt                0\n",
       "loan_int_rate            0\n",
       "loan_status              0\n",
       "loan_percent_income      0\n",
       "historical_default       0\n",
       "credit_history_length    0\n",
       "dtype: int64"
      ]
     },
     "execution_count": 26,
     "metadata": {},
     "output_type": "execute_result"
    }
   ],
   "source": [
    "credit_risk_df.isnull().sum()"
   ]
  },
  {
   "cell_type": "code",
   "execution_count": null,
   "id": "f0c557cf-cbce-4f34-9734-578b15ab2dd5",
   "metadata": {},
   "outputs": [],
   "source": []
  },
  {
   "cell_type": "code",
   "execution_count": null,
   "id": "a15a60ab-8dbb-4fb3-9f16-7f4d5cff5954",
   "metadata": {},
   "outputs": [],
   "source": []
  },
  {
   "cell_type": "markdown",
   "id": "28b8cc8a-c2d6-42df-b88e-8ad7f7d13029",
   "metadata": {},
   "source": [
    "# 3. Handling Data Types"
   ]
  },
  {
   "cell_type": "code",
   "execution_count": 28,
   "id": "18c67b09-a8be-405f-ada0-bd7762951b7a",
   "metadata": {},
   "outputs": [
    {
     "data": {
      "text/plain": [
       "person_age                 int64\n",
       "person_income              int64\n",
       "person_home_ownership     object\n",
       "person_emp_length        float64\n",
       "loan_intent               object\n",
       "loan_grade                object\n",
       "loan_amnt                  int64\n",
       "loan_int_rate            float64\n",
       "loan_status                int64\n",
       "loan_percent_income      float64\n",
       "historical_default        object\n",
       "credit_history_length      int64\n",
       "dtype: object"
      ]
     },
     "execution_count": 28,
     "metadata": {},
     "output_type": "execute_result"
    }
   ],
   "source": [
    "\n",
    "credit_risk_df.dtypes # confirm correctness for all columns"
   ]
  },
  {
   "cell_type": "markdown",
   "id": "4cb0b254-8e28-411b-98d5-51d9fefefb27",
   "metadata": {},
   "source": [
    "# 4. Handling Outliers"
   ]
  },
  {
   "cell_type": "code",
   "execution_count": 30,
   "id": "e713f27f-1147-4886-93dc-ccb5370f7eb1",
   "metadata": {},
   "outputs": [
    {
     "data": {
      "text/html": [
       "<div>\n",
       "<style scoped>\n",
       "    .dataframe tbody tr th:only-of-type {\n",
       "        vertical-align: middle;\n",
       "    }\n",
       "\n",
       "    .dataframe tbody tr th {\n",
       "        vertical-align: top;\n",
       "    }\n",
       "\n",
       "    .dataframe thead th {\n",
       "        text-align: right;\n",
       "    }\n",
       "</style>\n",
       "<table border=\"1\" class=\"dataframe\">\n",
       "  <thead>\n",
       "    <tr style=\"text-align: right;\">\n",
       "      <th></th>\n",
       "      <th>person_age</th>\n",
       "      <th>person_income</th>\n",
       "      <th>person_home_ownership</th>\n",
       "      <th>person_emp_length</th>\n",
       "      <th>loan_intent</th>\n",
       "      <th>loan_grade</th>\n",
       "      <th>loan_amnt</th>\n",
       "      <th>loan_int_rate</th>\n",
       "      <th>loan_status</th>\n",
       "      <th>loan_percent_income</th>\n",
       "      <th>historical_default</th>\n",
       "      <th>credit_history_length</th>\n",
       "    </tr>\n",
       "  </thead>\n",
       "  <tbody>\n",
       "    <tr>\n",
       "      <th>81</th>\n",
       "      <td>144</td>\n",
       "      <td>250000</td>\n",
       "      <td>RENT</td>\n",
       "      <td>4.0</td>\n",
       "      <td>VENTURE</td>\n",
       "      <td>C</td>\n",
       "      <td>4800</td>\n",
       "      <td>13.570000</td>\n",
       "      <td>0</td>\n",
       "      <td>0.02</td>\n",
       "      <td>N</td>\n",
       "      <td>3</td>\n",
       "    </tr>\n",
       "    <tr>\n",
       "      <th>183</th>\n",
       "      <td>144</td>\n",
       "      <td>200000</td>\n",
       "      <td>MORTGAGE</td>\n",
       "      <td>4.0</td>\n",
       "      <td>EDUCATION</td>\n",
       "      <td>B</td>\n",
       "      <td>6000</td>\n",
       "      <td>11.860000</td>\n",
       "      <td>0</td>\n",
       "      <td>0.03</td>\n",
       "      <td>N</td>\n",
       "      <td>2</td>\n",
       "    </tr>\n",
       "    <tr>\n",
       "      <th>575</th>\n",
       "      <td>123</td>\n",
       "      <td>80004</td>\n",
       "      <td>RENT</td>\n",
       "      <td>2.0</td>\n",
       "      <td>EDUCATION</td>\n",
       "      <td>B</td>\n",
       "      <td>20400</td>\n",
       "      <td>10.250000</td>\n",
       "      <td>0</td>\n",
       "      <td>0.25</td>\n",
       "      <td>N</td>\n",
       "      <td>3</td>\n",
       "    </tr>\n",
       "    <tr>\n",
       "      <th>747</th>\n",
       "      <td>123</td>\n",
       "      <td>78000</td>\n",
       "      <td>RENT</td>\n",
       "      <td>7.0</td>\n",
       "      <td>VENTURE</td>\n",
       "      <td>B</td>\n",
       "      <td>20000</td>\n",
       "      <td>11.017265</td>\n",
       "      <td>0</td>\n",
       "      <td>0.26</td>\n",
       "      <td>N</td>\n",
       "      <td>4</td>\n",
       "    </tr>\n",
       "    <tr>\n",
       "      <th>32297</th>\n",
       "      <td>144</td>\n",
       "      <td>6000000</td>\n",
       "      <td>MORTGAGE</td>\n",
       "      <td>12.0</td>\n",
       "      <td>PERSONAL</td>\n",
       "      <td>C</td>\n",
       "      <td>5000</td>\n",
       "      <td>12.730000</td>\n",
       "      <td>0</td>\n",
       "      <td>0.00</td>\n",
       "      <td>N</td>\n",
       "      <td>25</td>\n",
       "    </tr>\n",
       "  </tbody>\n",
       "</table>\n",
       "</div>"
      ],
      "text/plain": [
       "       person_age  person_income person_home_ownership  person_emp_length  \\\n",
       "81            144         250000                  RENT                4.0   \n",
       "183           144         200000              MORTGAGE                4.0   \n",
       "575           123          80004                  RENT                2.0   \n",
       "747           123          78000                  RENT                7.0   \n",
       "32297         144        6000000              MORTGAGE               12.0   \n",
       "\n",
       "      loan_intent loan_grade  loan_amnt  loan_int_rate  loan_status  \\\n",
       "81        VENTURE          C       4800      13.570000            0   \n",
       "183     EDUCATION          B       6000      11.860000            0   \n",
       "575     EDUCATION          B      20400      10.250000            0   \n",
       "747       VENTURE          B      20000      11.017265            0   \n",
       "32297    PERSONAL          C       5000      12.730000            0   \n",
       "\n",
       "       loan_percent_income historical_default  credit_history_length  \n",
       "81                    0.02                  N                      3  \n",
       "183                   0.03                  N                      2  \n",
       "575                   0.25                  N                      3  \n",
       "747                   0.26                  N                      4  \n",
       "32297                 0.00                  N                     25  "
      ]
     },
     "execution_count": 30,
     "metadata": {},
     "output_type": "execute_result"
    }
   ],
   "source": [
    "credit_risk_df[credit_risk_df['person_age'] > 100] # checking if i have any unrealistic values\n",
    "\n",
    "# 144 and 123 are outliers, deleting them"
   ]
  },
  {
   "cell_type": "code",
   "execution_count": 31,
   "id": "0ce64106-e7a3-4b10-8d3c-4f0091b0b52c",
   "metadata": {},
   "outputs": [],
   "source": [
    "# to solve, you can either remove or replace with median age, assuming it was an entry error\n",
    "median_age = credit_risk_df['person_age'].median()\n",
    "credit_risk_df.loc[credit_risk_df['person_age'] > 100, 'person_age'] = median_age\n",
    "#credit_risk_df = credit_risk_df[credit_risk_df['person_age'] <= 100] #drops the outliers\n"
   ]
  },
  {
   "cell_type": "code",
   "execution_count": 32,
   "id": "169343d1-6d91-4a6c-b235-e2ce9c4aae33",
   "metadata": {},
   "outputs": [
    {
     "data": {
      "text/plain": [
       "94"
      ]
     },
     "execution_count": 32,
     "metadata": {},
     "output_type": "execute_result"
    }
   ],
   "source": [
    "mxage = credit_risk_df['person_age'].max()\n",
    "mxage"
   ]
  },
  {
   "cell_type": "code",
   "execution_count": null,
   "id": "6ec1ee4d-5c51-4643-8317-536077746e5d",
   "metadata": {},
   "outputs": [],
   "source": []
  },
  {
   "cell_type": "markdown",
   "id": "2f7028bf-e52f-450c-af7e-64b3329d11a2",
   "metadata": {},
   "source": [
    "# Exploratory Data Analysis"
   ]
  },
  {
   "cell_type": "markdown",
   "id": "ed0ee568-92f0-4b69-8869-852e764adba0",
   "metadata": {},
   "source": [
    "# what is the commonest intent for taking up loans"
   ]
  },
  {
   "cell_type": "code",
   "execution_count": 35,
   "id": "af666098-51ec-469f-8e20-9a5df8c05978",
   "metadata": {},
   "outputs": [
    {
     "data": {
      "text/plain": [
       "loan_intent\n",
       "EDUCATION            6411\n",
       "MEDICAL              6042\n",
       "VENTURE              5682\n",
       "PERSONAL             5498\n",
       "DEBTCONSOLIDATION    5189\n",
       "HOMEIMPROVEMENT      3594\n",
       "Name: count, dtype: int64"
      ]
     },
     "execution_count": 35,
     "metadata": {},
     "output_type": "execute_result"
    }
   ],
   "source": [
    "credit_risk_df['loan_intent'].value_counts()"
   ]
  },
  {
   "cell_type": "markdown",
   "id": "2db9a9ea-8005-47c6-83a7-da2b01fe0243",
   "metadata": {},
   "source": [
    "# Loan Amounts by Intent"
   ]
  },
  {
   "cell_type": "code",
   "execution_count": 37,
   "id": "b2c9d1f8-88ad-4f14-a3f8-67b5b069517b",
   "metadata": {},
   "outputs": [
    {
     "data": {
      "text/plain": [
       "loan_intent\n",
       "DEBTCONSOLIDATION    49841750\n",
       "EDUCATION            60776600\n",
       "HOMEIMPROVEMENT      37241475\n",
       "MEDICAL              56018875\n",
       "PERSONAL             52669100\n",
       "VENTURE              54446300\n",
       "Name: loan_amnt, dtype: int64"
      ]
     },
     "execution_count": 37,
     "metadata": {},
     "output_type": "execute_result"
    }
   ],
   "source": [
    "\n",
    "credit_risk_df.groupby('loan_intent')['loan_amnt'].sum() # returns total loan amount for each loan inten"
   ]
  },
  {
   "cell_type": "code",
   "execution_count": null,
   "id": "f2edaa22-453c-4c23-af00-dc33a3a41408",
   "metadata": {},
   "outputs": [],
   "source": []
  },
  {
   "cell_type": "code",
   "execution_count": 38,
   "id": "df8066c0-7f4e-40fe-92d2-421964390076",
   "metadata": {},
   "outputs": [
    {
     "data": {
      "image/png": "[encoded data removed]",
      "text/plain": [
       "<Figure size 800x500 with 1 Axes>"
      ]
     },
     "metadata": {},
     "output_type": "display_data"
    }
   ],
   "source": [
    "loan_amnt_sum = credit_risk_df.groupby('loan_intent')['loan_amnt'].sum()\n",
    "loan_amnt_sum.plot(kind='bar', figsize=(8, 5))\n",
    "plt.title('Loan Amount by Intent')\n",
    "plt.xlabel('Loan Intent')\n",
    "plt.ylabel('Amount')\n",
    "#plt.legend(title='intent')  # Legend reflects the different metrics\n",
    "plt.show()\n"
   ]
  },
  {
   "cell_type": "code",
   "execution_count": null,
   "id": "806bc83a-acd6-4e5c-aa97-edfaf94aa069",
   "metadata": {},
   "outputs": [],
   "source": []
  },
  {
   "cell_type": "markdown",
   "id": "173365d3-1692-446a-bff4-44f4b7252323",
   "metadata": {},
   "source": [
    "# How level of Income affects Loan Amount"
   ]
  },
  {
   "cell_type": "code",
   "execution_count": 40,
   "id": "e037dfc3-92ac-45c2-8aa6-f590ab663e9f",
   "metadata": {},
   "outputs": [
    {
     "data": {
      "text/html": [
       "<div>\n",
       "<style scoped>\n",
       "    .dataframe tbody tr th:only-of-type {\n",
       "        vertical-align: middle;\n",
       "    }\n",
       "\n",
       "    .dataframe tbody tr th {\n",
       "        vertical-align: top;\n",
       "    }\n",
       "\n",
       "    .dataframe thead th {\n",
       "        text-align: right;\n",
       "    }\n",
       "</style>\n",
       "<table border=\"1\" class=\"dataframe\">\n",
       "  <thead>\n",
       "    <tr style=\"text-align: right;\">\n",
       "      <th></th>\n",
       "      <th>AverageIncome</th>\n",
       "      <th>AverageLoanAmount</th>\n",
       "    </tr>\n",
       "    <tr>\n",
       "      <th>loan_status</th>\n",
       "      <th></th>\n",
       "      <th></th>\n",
       "    </tr>\n",
       "  </thead>\n",
       "  <tbody>\n",
       "    <tr>\n",
       "      <th>0</th>\n",
       "      <td>70849.122794</td>\n",
       "      <td>9240.155763</td>\n",
       "    </tr>\n",
       "    <tr>\n",
       "      <th>1</th>\n",
       "      <td>49094.497955</td>\n",
       "      <td>10857.479898</td>\n",
       "    </tr>\n",
       "  </tbody>\n",
       "</table>\n",
       "</div>"
      ],
      "text/plain": [
       "             AverageIncome  AverageLoanAmount\n",
       "loan_status                                  \n",
       "0             70849.122794        9240.155763\n",
       "1             49094.497955       10857.479898"
      ]
     },
     "execution_count": 40,
     "metadata": {},
     "output_type": "execute_result"
    }
   ],
   "source": [
    "income_loan = credit_risk_df.groupby('loan_status').agg(\n",
    "    AverageIncome = ('person_income', 'mean'),\n",
    "    AverageLoanAmount = ('loan_amnt', 'mean')\n",
    ")\n",
    "income_loan "
   ]
  },
  {
   "cell_type": "code",
   "execution_count": 41,
   "id": "ffde4ede-7710-4ce9-a3cf-4ccf96dd4b90",
   "metadata": {},
   "outputs": [
    {
     "data": {
      "image/png": "[encoded data removed]",
      "text/plain": [
       "<Figure size 800x500 with 1 Axes>"
      ]
     },
     "metadata": {},
     "output_type": "display_data"
    }
   ],
   "source": [
    "# Plot average income and loan amount by loan status\n",
    "income_loan.plot(kind='bar', color=['skyblue', 'coral'], figsize=(8, 5))\n",
    "plt.title('Average Income and Loan Amount by Loan Status')\n",
    "plt.xlabel('Loan Status')\n",
    "plt.ylabel('Amount')\n",
    "plt.xticks(rotation=0)\n",
    "plt.legend(title='Metrics')  # Legend reflects the different metrics\n",
    "plt.show()\n"
   ]
  },
  {
   "cell_type": "markdown",
   "id": "c2783526-570c-4ec4-add0-e096ff086a92",
   "metadata": {},
   "source": [
    "# Risk of Default by Income Level"
   ]
  },
  {
   "cell_type": "code",
   "execution_count": 43,
   "id": "982eaeff-57b4-4bcb-9241-b715101c7c27",
   "metadata": {},
   "outputs": [
    {
     "data": {
      "text/plain": [
       "6000000"
      ]
     },
     "execution_count": 43,
     "metadata": {},
     "output_type": "execute_result"
    }
   ],
   "source": [
    "maxincome = credit_risk_df['person_income'].max()\n",
    "maxincome"
   ]
  },
  {
   "cell_type": "code",
   "execution_count": 44,
   "id": "07f8bc12-fc46-4252-952f-9138ade6c733",
   "metadata": {},
   "outputs": [
    {
     "data": {
      "text/plain": [
       "4000"
      ]
     },
     "execution_count": 44,
     "metadata": {},
     "output_type": "execute_result"
    }
   ],
   "source": [
    "minincome = credit_risk_df['person_income'].min()\n",
    "minincome"
   ]
  },
  {
   "cell_type": "code",
   "execution_count": 45,
   "id": "4635d381-a76b-4c27-b129-581519a68964",
   "metadata": {},
   "outputs": [
    {
     "data": {
      "text/plain": [
       "income_category\n",
       "40000 plus     23193\n",
       "20000-40000     8187\n",
       "Below 20000     1036\n",
       "Name: count, dtype: int64"
      ]
     },
     "execution_count": 45,
     "metadata": {},
     "output_type": "execute_result"
    }
   ],
   "source": [
    "credit_risk_df['income_category'] = credit_risk_df['person_income'].apply(\n",
    "    lambda x: \"Below 20000\" if x < 20000 else (\"20000-40000\" if x <= 40000 else \"40000 plus\")\n",
    ")\n",
    "credit_risk_df['income_category']\n",
    "credit_risk_df['income_category'].value_counts()"
   ]
  },
  {
   "cell_type": "code",
   "execution_count": null,
   "id": "baf8ff21-7b9e-4c50-bce5-08ef1b88b96f",
   "metadata": {},
   "outputs": [],
   "source": []
  },
  {
   "cell_type": "code",
   "execution_count": 46,
   "id": "f3020aa9-00f8-4283-9819-0fbbfca9dca9",
   "metadata": {},
   "outputs": [
    {
     "data": {
      "text/plain": [
       "income_category\n",
       "20000-40000    0.322707\n",
       "40000 plus     0.155521\n",
       "Below 20000    0.810811\n",
       "Name: loan_status, dtype: float64"
      ]
     },
     "execution_count": 46,
     "metadata": {},
     "output_type": "execute_result"
    }
   ],
   "source": [
    "defaultrisk_personincome = credit_risk_df.groupby('income_category')['loan_status'].mean()\n",
    "defaultrisk_personincome\n",
    "#from this breakdown it is evidennt that those earning under 20000 have an 81 percent chance of default while above 40000 have 15percent default risk"
   ]
  },
  {
   "cell_type": "code",
   "execution_count": 47,
   "id": "f5198c4b-8168-459f-ad67-4a63909b7625",
   "metadata": {},
   "outputs": [
    {
     "data": {
      "image/png": "[encoded data removed]",
      "text/plain": [
       "<Figure size 800x500 with 1 Axes>"
      ]
     },
     "metadata": {},
     "output_type": "display_data"
    }
   ],
   "source": [
    "defaultrisk_personincome.plot(kind = 'bar', figsize = (8,5))\n",
    "plt.title ('Risk of default by Income Level')\n",
    "plt.xlabel('Income Category')\n",
    "plt.ylabel('Risk of Default')\n",
    "plt.show()"
   ]
  },
  {
   "cell_type": "code",
   "execution_count": null,
   "id": "12c580c8-6f9b-47e7-8156-552c874e307e",
   "metadata": {},
   "outputs": [],
   "source": []
  },
  {
   "cell_type": "markdown",
   "id": "3c9f18b4-e91e-4f18-bd6e-03d561a75a0b",
   "metadata": {},
   "source": [
    "# defaulters vs non-defaulters statistics"
   ]
  },
  {
   "cell_type": "code",
   "execution_count": 49,
   "id": "4c46f80c-926f-4d66-bda9-6c68ab50323f",
   "metadata": {},
   "outputs": [
    {
     "data": {
      "text/plain": [
       "loan_status\n",
       "0    25327\n",
       "1     7089\n",
       "Name: count, dtype: int64"
      ]
     },
     "execution_count": 49,
     "metadata": {},
     "output_type": "execute_result"
    }
   ],
   "source": [
    "credit_risk_df['loan_status'].value_counts()\n",
    "#from this statistic, its evident the disparity that exist, with more people payng off their loans"
   ]
  },
  {
   "cell_type": "markdown",
   "id": "194797cc-6d73-46d5-91b1-599c282089a1",
   "metadata": {},
   "source": [
    "# Risk of default by loan intent "
   ]
  },
  {
   "cell_type": "code",
   "execution_count": 51,
   "id": "6ce5b6e0-74d8-49ce-a410-af8fc2859322",
   "metadata": {},
   "outputs": [
    {
     "data": {
      "text/html": [
       "<div>\n",
       "<style scoped>\n",
       "    .dataframe tbody tr th:only-of-type {\n",
       "        vertical-align: middle;\n",
       "    }\n",
       "\n",
       "    .dataframe tbody tr th {\n",
       "        vertical-align: top;\n",
       "    }\n",
       "\n",
       "    .dataframe thead th {\n",
       "        text-align: right;\n",
       "    }\n",
       "</style>\n",
       "<table border=\"1\" class=\"dataframe\">\n",
       "  <thead>\n",
       "    <tr style=\"text-align: right;\">\n",
       "      <th></th>\n",
       "      <th>averageloanstatus</th>\n",
       "    </tr>\n",
       "    <tr>\n",
       "      <th>loan_intent</th>\n",
       "      <th></th>\n",
       "    </tr>\n",
       "  </thead>\n",
       "  <tbody>\n",
       "    <tr>\n",
       "      <th>DEBTCONSOLIDATION</th>\n",
       "      <td>0.286760</td>\n",
       "    </tr>\n",
       "    <tr>\n",
       "      <th>EDUCATION</th>\n",
       "      <td>0.172516</td>\n",
       "    </tr>\n",
       "    <tr>\n",
       "      <th>HOMEIMPROVEMENT</th>\n",
       "      <td>0.261547</td>\n",
       "    </tr>\n",
       "    <tr>\n",
       "      <th>MEDICAL</th>\n",
       "      <td>0.267627</td>\n",
       "    </tr>\n",
       "    <tr>\n",
       "      <th>PERSONAL</th>\n",
       "      <td>0.198981</td>\n",
       "    </tr>\n",
       "    <tr>\n",
       "      <th>VENTURE</th>\n",
       "      <td>0.148539</td>\n",
       "    </tr>\n",
       "  </tbody>\n",
       "</table>\n",
       "</div>"
      ],
      "text/plain": [
       "                   averageloanstatus\n",
       "loan_intent                         \n",
       "DEBTCONSOLIDATION           0.286760\n",
       "EDUCATION                   0.172516\n",
       "HOMEIMPROVEMENT             0.261547\n",
       "MEDICAL                     0.267627\n",
       "PERSONAL                    0.198981\n",
       "VENTURE                     0.148539"
      ]
     },
     "execution_count": 51,
     "metadata": {},
     "output_type": "execute_result"
    }
   ],
   "source": [
    "defaultrisk_loanintent = credit_risk_df.groupby('loan_intent').agg(\n",
    "    averageloanstatus = ('loan_status', 'mean')\n",
    ")\n",
    "defaultrisk_loanintent\n",
    "#not a good measure, but those with debt consolidation intent have the highest default rate"
   ]
  },
  {
   "cell_type": "code",
   "execution_count": null,
   "id": "a3a8c521-cddb-4b66-914b-23a953d17534",
   "metadata": {},
   "outputs": [],
   "source": []
  },
  {
   "cell_type": "code",
   "execution_count": 52,
   "id": "25992709-3781-46bc-ae87-94c0d810b966",
   "metadata": {},
   "outputs": [
    {
     "data": {
      "image/png": "[encoded data removed]",
      "text/plain": [
       "<Figure size 800x500 with 1 Axes>"
      ]
     },
     "metadata": {},
     "output_type": "display_data"
    }
   ],
   "source": [
    "\n",
    "defaultrisk_loanintent.plot(kind='bar', color=['skyblue'], figsize=(8, 5))\n",
    "plt.title('Risk of default by loan Intent')\n",
    "plt.xlabel('Loan Intent')\n",
    "plt.ylabel('Default Rate')\n",
    "plt.show()\n"
   ]
  },
  {
   "cell_type": "markdown",
   "id": "112873be-ff78-4efe-b0bd-43143079fbd5",
   "metadata": {},
   "source": [
    "# How does debt history affect loan uptake"
   ]
  },
  {
   "cell_type": "code",
   "execution_count": 54,
   "id": "126b9c61-5931-4fee-ac78-5a1b24e190a6",
   "metadata": {},
   "outputs": [
    {
     "data": {
      "text/html": [
       "<div>\n",
       "<style scoped>\n",
       "    .dataframe tbody tr th:only-of-type {\n",
       "        vertical-align: middle;\n",
       "    }\n",
       "\n",
       "    .dataframe tbody tr th {\n",
       "        vertical-align: top;\n",
       "    }\n",
       "\n",
       "    .dataframe thead th {\n",
       "        text-align: right;\n",
       "    }\n",
       "</style>\n",
       "<table border=\"1\" class=\"dataframe\">\n",
       "  <thead>\n",
       "    <tr style=\"text-align: right;\">\n",
       "      <th></th>\n",
       "      <th>AverageLoanAmount</th>\n",
       "    </tr>\n",
       "    <tr>\n",
       "      <th>historical_default</th>\n",
       "      <th></th>\n",
       "    </tr>\n",
       "  </thead>\n",
       "  <tbody>\n",
       "    <tr>\n",
       "      <th>N</th>\n",
       "      <td>9478.584276</td>\n",
       "    </tr>\n",
       "    <tr>\n",
       "      <th>Y</th>\n",
       "      <td>10130.645724</td>\n",
       "    </tr>\n",
       "  </tbody>\n",
       "</table>\n",
       "</div>"
      ],
      "text/plain": [
       "                    AverageLoanAmount\n",
       "historical_default                   \n",
       "N                         9478.584276\n",
       "Y                        10130.645724"
      ]
     },
     "execution_count": 54,
     "metadata": {},
     "output_type": "execute_result"
    }
   ],
   "source": [
    "defaulthistory_loanuptake = credit_risk_df.groupby('historical_default').agg(\n",
    "    AverageLoanAmount = ('loan_amnt', 'mean')\n",
    ")\n",
    "defaulthistory_loanuptake"
   ]
  },
  {
   "cell_type": "code",
   "execution_count": 55,
   "id": "6131c82b-df23-4ac3-bbee-abc3ebc1173f",
   "metadata": {},
   "outputs": [
    {
     "data": {
      "image/png": "[encoded data removed]",
      "text/plain": [
       "<Figure size 800x500 with 1 Axes>"
      ]
     },
     "metadata": {},
     "output_type": "display_data"
    }
   ],
   "source": [
    "defaulthistory_loanuptake.plot(kind='bar', color=['blue'], figsize= (8, 5))\n",
    "plt.title('Effect of Debt History on Loan uptake')\n",
    "plt.xlabel('Default History')\n",
    "plt.ylabel('Loan Amount')\n",
    "plt.legend(title='Historical Default')\n",
    "plt.show()"
   ]
  },
  {
   "cell_type": "markdown",
   "id": "5eff6419-bee6-404f-9255-0f0d5cc154f0",
   "metadata": {},
   "source": [
    "# Are historical defaulters likely to default again"
   ]
  },
  {
   "cell_type": "code",
   "execution_count": 57,
   "id": "461bf34f-481c-4aaa-ad12-4c72d721e131",
   "metadata": {},
   "outputs": [
    {
     "data": {
      "text/plain": [
       "historical_default\n",
       "N    26686\n",
       "Y     5730\n",
       "Name: count, dtype: int64"
      ]
     },
     "execution_count": 57,
     "metadata": {},
     "output_type": "execute_result"
    }
   ],
   "source": [
    "credit_risk_df['historical_default'].value_counts()"
   ]
  },
  {
   "cell_type": "code",
   "execution_count": 58,
   "id": "8dfc031c-796e-44ab-ac4c-79ec09a18870",
   "metadata": {},
   "outputs": [
    {
     "data": {
      "text/plain": [
       "historical_default\n",
       "N    0.184329\n",
       "Y    0.378709\n",
       "Name: loan_status, dtype: float64"
      ]
     },
     "execution_count": 58,
     "metadata": {},
     "output_type": "execute_result"
    }
   ],
   "source": [
    "historicaldefault_loanstatus = credit_risk_df.groupby('historical_default')['loan_status'].mean()\n",
    "historicaldefault_loanstatus\n",
    "#37 percent of those with historical default, defaulted compared to 18 percent of those with no historical default"
   ]
  },
  {
   "cell_type": "code",
   "execution_count": 59,
   "id": "9c4b1ead-dc77-4927-b937-b234badd5980",
   "metadata": {},
   "outputs": [
    {
     "data": {
      "image/png": "[encoded data removed]",
      "text/plain": [
       "<Figure size 640x480 with 1 Axes>"
      ]
     },
     "metadata": {},
     "output_type": "display_data"
    }
   ],
   "source": [
    "historicaldefault_loanstatus.plot(kind = 'bar' ,color = ['blue', 'red'])\n",
    "plt.title('Likelihood of Default based on Historical Default')\n",
    "plt.ylabel('default Rate')\n",
    "plt.xlabel('History of default (N = No, Y = Yes) ')\n",
    "plt.ylim(0, 1) # Default rate is btwn 0 and 1\n",
    "plt.grid(axis = 'y', linestyle = '--')\n",
    "plt.show()"
   ]
  },
  {
   "cell_type": "code",
   "execution_count": null,
   "id": "6d0e0f12-c715-46ba-a858-d82cf988399e",
   "metadata": {},
   "outputs": [],
   "source": []
  },
  {
   "cell_type": "markdown",
   "id": "aa4e0ae7-a770-4e5f-9fcc-316caf7f778c",
   "metadata": {},
   "source": [
    "# Risk of default by Home ownership"
   ]
  },
  {
   "cell_type": "code",
   "execution_count": 61,
   "id": "998620f1-c766-4566-9c10-00fe8a3136c0",
   "metadata": {},
   "outputs": [
    {
     "data": {
      "text/plain": [
       "person_home_ownership\n",
       "RENT        16378\n",
       "MORTGAGE    13369\n",
       "OWN          2563\n",
       "OTHER         106\n",
       "Name: count, dtype: int64"
      ]
     },
     "execution_count": 61,
     "metadata": {},
     "output_type": "execute_result"
    }
   ],
   "source": [
    "credit_risk_df['person_home_ownership'].value_counts()"
   ]
  },
  {
   "cell_type": "code",
   "execution_count": null,
   "id": "d7b2ebf3-1c84-42a3-8be1-53b3be197a83",
   "metadata": {},
   "outputs": [],
   "source": []
  },
  {
   "cell_type": "code",
   "execution_count": 107,
   "id": "19c7466b-9122-4514-aed9-0c95394d81e1",
   "metadata": {},
   "outputs": [
    {
     "data": {
      "text/plain": [
       "person_home_ownership\n",
       "MORTGAGE    0.126187\n",
       "OTHER       0.311321\n",
       "OWN         0.074912\n",
       "RENT        0.316095\n",
       "Name: loan_status, dtype: float64"
      ]
     },
     "execution_count": 107,
     "metadata": {},
     "output_type": "execute_result"
    }
   ],
   "source": [
    "# Convert \"Default\" to 1  and \"Non-Default\" to 0 \n",
    "#credit_risk_df['loan_status_numeric'] = credit_risk_df['loan_status'].map({'Default': 1, 'Non Default': 0})\n",
    "\n",
    "\n",
    "homeownership_loanstatus = credit_risk_df.groupby('person_home_ownership')['loan_status'].mean()\n",
    "homeownership_loanstatus\n",
    "\n",
    "# output suggests people how rent are most likely to default, then mortgage holders, then home owners"
   ]
  },
  {
   "cell_type": "code",
   "execution_count": 109,
   "id": "9b757d48-c1f2-4ea4-a8da-81b8db51766b",
   "metadata": {},
   "outputs": [
    {
     "data": {
      "image/png": "[encoded data removed]",
      "text/plain": [
       "<Figure size 800x500 with 1 Axes>"
      ]
     },
     "metadata": {},
     "output_type": "display_data"
    }
   ],
   "source": [
    "homeownership_loanstatus.plot(kind = 'line', color = ['coral'], figsize = (8,5))\n",
    "plt.title(' Risk of default by Home ownership')\n",
    "plt.ylabel('Risk of Default')\n",
    "plt.xlabel('Home Ownership type')\n",
    "plt.ylim(0,0.5)\n",
    "plt.grid(axis = 'y', linestyle = '--')\n",
    "plt.show()"
   ]
  },
  {
   "cell_type": "markdown",
   "id": "40f46dda-c405-419a-998d-8706a8e36018",
   "metadata": {},
   "source": [
    "#  how do credit history affect loan uptake"
   ]
  },
  {
   "cell_type": "code",
   "execution_count": 65,
   "id": "1aea9137-9da6-4eeb-9aaf-651fcd148202",
   "metadata": {},
   "outputs": [
    {
     "data": {
      "text/plain": [
       "credit_history_category\n",
       "Below 11 years         28960\n",
       "Between 11-20 years     3243\n",
       "Over 20 years            213\n",
       "Name: count, dtype: int64"
      ]
     },
     "execution_count": 65,
     "metadata": {},
     "output_type": "execute_result"
    }
   ],
   "source": [
    "#define interest rates\n",
    "#define credit history length\n",
    "# Categorize credit history length using lambda function\n",
    "credit_risk_df['credit_history_category'] = credit_risk_df['credit_history_length'].apply(\n",
    "    lambda x: \"Below 11 years\" if x < 11 else (\"Between 11-20 years\" if x <= 20 else \"Over 20 years\")\n",
    ")\n",
    "credit_risk_df['credit_history_category']\n",
    "# Display value counts to check distribution\n",
    "credit_risk_df['credit_history_category'].value_counts()"
   ]
  },
  {
   "cell_type": "code",
   "execution_count": 66,
   "id": "2e2bcb14-02d4-49a6-ba7b-c1a209eeb9d0",
   "metadata": {
    "scrolled": true
   },
   "outputs": [
    {
     "data": {
      "text/html": [
       "<div>\n",
       "<style scoped>\n",
       "    .dataframe tbody tr th:only-of-type {\n",
       "        vertical-align: middle;\n",
       "    }\n",
       "\n",
       "    .dataframe tbody tr th {\n",
       "        vertical-align: top;\n",
       "    }\n",
       "\n",
       "    .dataframe thead th {\n",
       "        text-align: right;\n",
       "    }\n",
       "</style>\n",
       "<table border=\"1\" class=\"dataframe\">\n",
       "  <thead>\n",
       "    <tr style=\"text-align: right;\">\n",
       "      <th></th>\n",
       "      <th>AverageLoanAmount</th>\n",
       "    </tr>\n",
       "    <tr>\n",
       "      <th>credit_history_category</th>\n",
       "      <th></th>\n",
       "    </tr>\n",
       "  </thead>\n",
       "  <tbody>\n",
       "    <tr>\n",
       "      <th>Below 11 years</th>\n",
       "      <td>9546.256043</td>\n",
       "    </tr>\n",
       "    <tr>\n",
       "      <th>Between 11-20 years</th>\n",
       "      <td>10005.180389</td>\n",
       "    </tr>\n",
       "    <tr>\n",
       "      <th>Over 20 years</th>\n",
       "      <td>9801.525822</td>\n",
       "    </tr>\n",
       "  </tbody>\n",
       "</table>\n",
       "</div>"
      ],
      "text/plain": [
       "                         AverageLoanAmount\n",
       "credit_history_category                   \n",
       "Below 11 years                 9546.256043\n",
       "Between 11-20 years           10005.180389\n",
       "Over 20 years                  9801.525822"
      ]
     },
     "execution_count": 66,
     "metadata": {},
     "output_type": "execute_result"
    }
   ],
   "source": [
    "loanamount_credithistorylength = credit_risk_df.groupby('credit_history_category').agg(\n",
    "AverageLoanAmount = ('loan_amnt', 'mean')\n",
    ")\n",
    "loanamount_credithistorylength                                                                                               "
   ]
  },
  {
   "cell_type": "code",
   "execution_count": 67,
   "id": "ea90b350-922e-402c-b35d-8172b44f6c28",
   "metadata": {
    "collapsed": true,
    "jupyter": {
     "outputs_hidden": true
    },
    "scrolled": true
   },
   "outputs": [
    {
     "data": {
      "image/png": "[encoded data removed]",
      "text/plain": [
       "<Figure size 800x500 with 1 Axes>"
      ]
     },
     "metadata": {},
     "output_type": "display_data"
    }
   ],
   "source": [
    "loanamount_credithistorylength.plot(kind ='line', color = ['coral'], figsize = (8, 5))\n",
    "plt.title('Average loan amount by credit history length')\n",
    "plt.xlabel('credit category')\n",
    "plt.ylabel('Avg loan amount')\n",
    "plt.show()"
   ]
  },
  {
   "cell_type": "markdown",
   "id": "146a52b9-8d66-4561-aecd-fd51f74871fc",
   "metadata": {},
   "source": [
    "# Risk of Default by Credit History"
   ]
  },
  {
   "cell_type": "code",
   "execution_count": 69,
   "id": "bb6e8f0d-a4c3-457e-93fc-86bd8d1f2bbd",
   "metadata": {},
   "outputs": [
    {
     "data": {
      "text/html": [
       "<div>\n",
       "<style scoped>\n",
       "    .dataframe tbody tr th:only-of-type {\n",
       "        vertical-align: middle;\n",
       "    }\n",
       "\n",
       "    .dataframe tbody tr th {\n",
       "        vertical-align: top;\n",
       "    }\n",
       "\n",
       "    .dataframe thead th {\n",
       "        text-align: right;\n",
       "    }\n",
       "</style>\n",
       "<table border=\"1\" class=\"dataframe\">\n",
       "  <thead>\n",
       "    <tr style=\"text-align: right;\">\n",
       "      <th></th>\n",
       "      <th>averageloanstatus</th>\n",
       "    </tr>\n",
       "    <tr>\n",
       "      <th>credit_history_category</th>\n",
       "      <th></th>\n",
       "    </tr>\n",
       "  </thead>\n",
       "  <tbody>\n",
       "    <tr>\n",
       "      <th>Below 11 years</th>\n",
       "      <td>0.219751</td>\n",
       "    </tr>\n",
       "    <tr>\n",
       "      <th>Between 11-20 years</th>\n",
       "      <td>0.206599</td>\n",
       "    </tr>\n",
       "    <tr>\n",
       "      <th>Over 20 years</th>\n",
       "      <td>0.258216</td>\n",
       "    </tr>\n",
       "  </tbody>\n",
       "</table>\n",
       "</div>"
      ],
      "text/plain": [
       "                         averageloanstatus\n",
       "credit_history_category                   \n",
       "Below 11 years                    0.219751\n",
       "Between 11-20 years               0.206599\n",
       "Over 20 years                     0.258216"
      ]
     },
     "execution_count": 69,
     "metadata": {},
     "output_type": "execute_result"
    }
   ],
   "source": [
    "defaultrisk_credithistory = credit_risk_df.groupby('credit_history_category').agg(\n",
    "    averageloanstatus = ('loan_status', 'mean')\n",
    ")\n",
    "defaultrisk_credithistory"
   ]
  },
  {
   "cell_type": "code",
   "execution_count": 70,
   "id": "a01ec265-1874-4920-bae2-6761586dbc21",
   "metadata": {},
   "outputs": [
    {
     "data": {
      "image/png": "[encoded data removed]",
      "text/plain": [
       "<Figure size 800x500 with 1 Axes>"
      ]
     },
     "metadata": {},
     "output_type": "display_data"
    }
   ],
   "source": [
    "defaultrisk_credithistory.plot(kind ='line', color = ['coral'], figsize = (8, 5))\n",
    "plt.title('Risk of Default by Credit History')\n",
    "plt.xlabel('credit history category')\n",
    "plt.ylabel('default rate')\n",
    "plt.ylim(0, 0.3)\n",
    "plt.show()"
   ]
  },
  {
   "cell_type": "markdown",
   "id": "70f8c958-c380-4b65-87f0-d1e0f11571f6",
   "metadata": {},
   "source": [
    "# how does employment length affect loan amount and default"
   ]
  },
  {
   "cell_type": "code",
   "execution_count": 72,
   "id": "80cb917d-9e1a-4050-b86c-93855bc3b597",
   "metadata": {},
   "outputs": [
    {
     "data": {
      "text/plain": [
       "123.0"
      ]
     },
     "execution_count": 72,
     "metadata": {},
     "output_type": "execute_result"
    }
   ],
   "source": [
    "max_value = credit_risk_df['person_emp_length'].max()\n",
    "max_value"
   ]
  },
  {
   "cell_type": "code",
   "execution_count": 73,
   "id": "5b561e41-8614-4de6-bad8-bfcd9c8c89b3",
   "metadata": {},
   "outputs": [
    {
     "data": {
      "text/plain": [
       "0.0"
      ]
     },
     "execution_count": 73,
     "metadata": {},
     "output_type": "execute_result"
    }
   ],
   "source": [
    "min_value = credit_risk_df['person_emp_length'].min()\n",
    "min_value"
   ]
  },
  {
   "cell_type": "code",
   "execution_count": 74,
   "id": "74ad304b-bdf9-44bf-9b7a-cc6bd017a480",
   "metadata": {},
   "outputs": [
    {
     "data": {
      "text/plain": [
       "employment_length_category\n",
       "Under 1year     30233\n",
       "1-5 years        2181\n",
       "Over 5 years        2\n",
       "Name: count, dtype: int64"
      ]
     },
     "execution_count": 74,
     "metadata": {},
     "output_type": "execute_result"
    }
   ],
   "source": [
    "# categrizing length of employee stay\n",
    "credit_risk_df['employment_length_category'] = credit_risk_df['person_emp_length'].apply(\n",
    "    lambda x: \"Under 1year\" if x < 12 else (\"1-5 years\" if x <= 60 else \"Over 5 years\")\n",
    ")\n",
    "credit_risk_df['employment_length_category'] \n",
    "credit_risk_df['employment_length_category'].value_counts()"
   ]
  },
  {
   "cell_type": "code",
   "execution_count": 75,
   "id": "2cbfa0ae-dc27-4bb9-be81-2a2a813c0255",
   "metadata": {
    "scrolled": true
   },
   "outputs": [
    {
     "data": {
      "text/html": [
       "<div>\n",
       "<style scoped>\n",
       "    .dataframe tbody tr th:only-of-type {\n",
       "        vertical-align: middle;\n",
       "    }\n",
       "\n",
       "    .dataframe tbody tr th {\n",
       "        vertical-align: top;\n",
       "    }\n",
       "\n",
       "    .dataframe thead th {\n",
       "        text-align: right;\n",
       "    }\n",
       "</style>\n",
       "<table border=\"1\" class=\"dataframe\">\n",
       "  <thead>\n",
       "    <tr style=\"text-align: right;\">\n",
       "      <th></th>\n",
       "      <th>averageloanamount</th>\n",
       "    </tr>\n",
       "    <tr>\n",
       "      <th>employment_length_category</th>\n",
       "      <th></th>\n",
       "    </tr>\n",
       "  </thead>\n",
       "  <tbody>\n",
       "    <tr>\n",
       "      <th>1-5 years</th>\n",
       "      <td>11060.385144</td>\n",
       "    </tr>\n",
       "    <tr>\n",
       "      <th>Over 5 years</th>\n",
       "      <td>27500.000000</td>\n",
       "    </tr>\n",
       "    <tr>\n",
       "      <th>Under 1year</th>\n",
       "      <td>9486.865346</td>\n",
       "    </tr>\n",
       "  </tbody>\n",
       "</table>\n",
       "</div>"
      ],
      "text/plain": [
       "                            averageloanamount\n",
       "employment_length_category                   \n",
       "1-5 years                        11060.385144\n",
       "Over 5 years                     27500.000000\n",
       "Under 1year                       9486.865346"
      ]
     },
     "execution_count": 75,
     "metadata": {},
     "output_type": "execute_result"
    }
   ],
   "source": [
    "employmentlenghth_loanamount = credit_risk_df.groupby('employment_length_category').agg(\n",
    "    averageloanamount = ('loan_amnt', 'mean')\n",
    ")\n",
    "employmentlenghth_loanamount"
   ]
  },
  {
   "cell_type": "code",
   "execution_count": 111,
   "id": "5741030f-df33-4ef0-9b60-2623f8efcb34",
   "metadata": {
    "scrolled": true
   },
   "outputs": [
    {
     "data": {
      "image/png": "[encoded data removed]",
      "text/plain": [
       "<Figure size 800x500 with 1 Axes>"
      ]
     },
     "metadata": {},
     "output_type": "display_data"
    }
   ],
   "source": [
    "employmentlenghth_loanamount.plot  (kind = 'bar', color = ['blue'], figsize = (8, 5))\n",
    "plt.title('Average Loan Amount by Employment Length')\n",
    "plt.ylabel('Average Loan Amount')\n",
    "plt.xlabel('Employment Length')\n",
    "plt.show()"
   ]
  },
  {
   "cell_type": "markdown",
   "id": "396e9f3b-c7d1-4154-a1d6-393077d35ee2",
   "metadata": {},
   "source": [
    "# Default Risk by Employment Length\n"
   ]
  },
  {
   "cell_type": "code",
   "execution_count": 78,
   "id": "b41cc95d-86aa-4f6a-9f0f-79432dc43a35",
   "metadata": {},
   "outputs": [
    {
     "data": {
      "text/plain": [
       "employment_length_category\n",
       "1-5 years       0.152682\n",
       "Over 5 years    0.500000\n",
       "Under 1year     0.178480\n",
       "Name: historical_default_numeric, dtype: float64"
      ]
     },
     "execution_count": 78,
     "metadata": {},
     "output_type": "execute_result"
    }
   ],
   "source": [
    "credit_risk_df['historical_default_numeric'] = credit_risk_df['historical_default'].map({'N': 0, 'Y': 1})\n",
    "defaultrisk_employmentlength = credit_risk_df.groupby('employment_length_category')['historical_default_numeric'].mean()\n",
    "defaultrisk_employmentlength"
   ]
  },
  {
   "cell_type": "code",
   "execution_count": 103,
   "id": "c7e13ef9-5a17-4118-8044-d668618800e9",
   "metadata": {},
   "outputs": [
    {
     "data": {
      "image/png": "[encoded data removed]",
      "text/plain": [
       "<Figure size 640x480 with 1 Axes>"
      ]
     },
     "metadata": {},
     "output_type": "display_data"
    }
   ],
   "source": [
    "defaultrisk_employmentlength.plot(kind = 'line' )\n",
    "plt.title('Likelihood of default by Employment Length')\n",
    "plt.ylabel('Default rate')\n",
    "plt.xlabel('Employment Length')\n",
    "plt.ylim(0,0.7)\n",
    "plt.grid(axis ='y', linestyle = '--' )\n",
    "plt.show()"
   ]
  },
  {
   "cell_type": "code",
   "execution_count": null,
   "id": "e6abe06e-bca2-4aa7-ad32-274aaac71ce8",
   "metadata": {},
   "outputs": [],
   "source": []
  },
  {
   "cell_type": "code",
   "execution_count": null,
   "id": "58b3635e-2aea-49eb-9e55-29f38c317e0b",
   "metadata": {},
   "outputs": [],
   "source": []
  },
  {
   "cell_type": "markdown",
   "id": "58eb9728-70de-4c14-ad79-a3abe70ef9bf",
   "metadata": {},
   "source": [
    "# Risk of default by interest rates"
   ]
  },
  {
   "cell_type": "code",
   "execution_count": 81,
   "id": "b74f81e5-890e-40dd-b893-d9859dd7a348",
   "metadata": {},
   "outputs": [
    {
     "data": {
      "text/plain": [
       "23.22"
      ]
     },
     "execution_count": 81,
     "metadata": {},
     "output_type": "execute_result"
    }
   ],
   "source": [
    "maxintrate = credit_risk_df['loan_int_rate'].max()\n",
    "minintrate = credit_risk_df['loan_int_rate'].min()\n",
    "maxintrate"
   ]
  },
  {
   "cell_type": "code",
   "execution_count": 82,
   "id": "bb7bb6e8-5065-4a4c-93e3-2f1f45cbf16a",
   "metadata": {},
   "outputs": [
    {
     "data": {
      "text/plain": [
       "5.42"
      ]
     },
     "execution_count": 82,
     "metadata": {},
     "output_type": "execute_result"
    }
   ],
   "source": [
    "minintrate"
   ]
  },
  {
   "cell_type": "code",
   "execution_count": 83,
   "id": "6f61839c-45ab-4e56-88d3-258ac67c9d42",
   "metadata": {},
   "outputs": [
    {
     "data": {
      "text/plain": [
       "int_rate_category\n",
       "5-12      24000\n",
       "13-20      8342\n",
       "21plus       74\n",
       "Name: count, dtype: int64"
      ]
     },
     "execution_count": 83,
     "metadata": {},
     "output_type": "execute_result"
    }
   ],
   "source": [
    "# categorizing interest rates into low, moderate, high\n",
    "credit_risk_df['int_rate_category'] = credit_risk_df['loan_int_rate'].apply(\n",
    "    lambda x: \"5-12\" if x < 13 else (\"13-20\" if x <= 20 else \"21plus\")\n",
    ")\n",
    "credit_risk_df['int_rate_category'].value_counts()\n"
   ]
  },
  {
   "cell_type": "code",
   "execution_count": 113,
   "id": "4095c19a-65fc-4d2b-9209-9b7f04f4f3b5",
   "metadata": {},
   "outputs": [
    {
     "data": {
      "text/plain": [
       "int_rate_category\n",
       "13-20     0.416207\n",
       "21plus    0.851351\n",
       "5-12      0.148083\n",
       "Name: loan_status, dtype: float64"
      ]
     },
     "execution_count": 113,
     "metadata": {},
     "output_type": "execute_result"
    }
   ],
   "source": [
    "#loanstatus_interestrate = credit_risk_df.groupby('int_rate_category')['loan_status'].mean()\n",
    "#loanstatus_interestrate\n",
    "# Convert \"Yes\" to 1 (Default) and \"No\" to 0 (Non-Default)\n",
    "#credit_risk_df['loan_status_numeric'] = credit_risk_df['loan_status'].map({'Default': 1, 'Non Default': 0})\n",
    "\n",
    "# Compute the default rate per interest rate category\n",
    "loanstatus_interestrate = credit_risk_df.groupby('int_rate_category')['loan_status'].mean()\n",
    "\n",
    "# Display results\n",
    "loanstatus_interestrate\n",
    "\n",
    "#output suggests higher  default rates for loans withhigher interest rates"
   ]
  },
  {
   "cell_type": "code",
   "execution_count": 115,
   "id": "39859eae-7689-49b7-9bdf-125d2aaa2f03",
   "metadata": {},
   "outputs": [
    {
     "data": {
      "image/png": "[encoded data removed]",
      "text/plain": [
       "<Figure size 800x500 with 1 Axes>"
      ]
     },
     "metadata": {},
     "output_type": "display_data"
    }
   ],
   "source": [
    "loanstatus_interestrate.plot(kind = 'bar', color = ['coral'], figsize = (8,5))\n",
    "plt.title('Risk of Loan Default by Interest Rate')\n",
    "plt.ylabel('Default rate')\n",
    "plt.xlabel('Interest rate category (percent)')\n",
    "plt.show()"
   ]
  },
  {
   "cell_type": "code",
   "execution_count": null,
   "id": "38c2ac3b-2f98-43c2-a22f-19aa8c75f5c2",
   "metadata": {},
   "outputs": [],
   "source": []
  },
  {
   "cell_type": "code",
   "execution_count": null,
   "id": "54b6adb3-1891-49bd-b2b1-aea6867a3918",
   "metadata": {},
   "outputs": [],
   "source": []
  },
  {
   "cell_type": "markdown",
   "id": "0ba98a67-3641-4324-8b9d-458a102e0aa4",
   "metadata": {},
   "source": [
    "# Effect of age on loan amounts"
   ]
  },
  {
   "cell_type": "code",
   "execution_count": 87,
   "id": "6d28a105-ade8-424f-81ee-cbf57631a1e3",
   "metadata": {},
   "outputs": [
    {
     "data": {
      "text/plain": [
       "person_age_category\n",
       "18-35 years    28961\n",
       "36-54 years     3321\n",
       "55plus           134\n",
       "Name: count, dtype: int64"
      ]
     },
     "execution_count": 87,
     "metadata": {},
     "output_type": "execute_result"
    }
   ],
   "source": [
    "# categorizing person_age\n",
    "credit_risk_df['person_age_category'] = credit_risk_df['person_age'].apply(\n",
    "    lambda x: \"18-35 years\" if x < 36 else (\"36-54 years\" if x <= 55 else \"55plus\")\n",
    "    )\n",
    "credit_risk_df['person_age_category'].value_counts()"
   ]
  },
  {
   "cell_type": "code",
   "execution_count": 88,
   "id": "76805f0d-3ab6-4e3c-b33d-3134ceb1f1ec",
   "metadata": {},
   "outputs": [
    {
     "data": {
      "text/plain": [
       "20"
      ]
     },
     "execution_count": 88,
     "metadata": {},
     "output_type": "execute_result"
    }
   ],
   "source": [
    "minage = credit_risk_df['person_age'].min()\n",
    "minage"
   ]
  },
  {
   "cell_type": "code",
   "execution_count": 89,
   "id": "ea364f0f-81ad-4e15-9cdb-8e71422fe7ce",
   "metadata": {},
   "outputs": [
    {
     "data": {
      "text/plain": [
       "94"
      ]
     },
     "execution_count": 89,
     "metadata": {},
     "output_type": "execute_result"
    }
   ],
   "source": [
    "maxage = credit_risk_df['person_age'].max()\n",
    "maxage"
   ]
  },
  {
   "cell_type": "code",
   "execution_count": 90,
   "id": "0313c271-fd8d-4aa1-803c-d8a9bac0c66d",
   "metadata": {},
   "outputs": [
    {
     "data": {
      "text/html": [
       "<div>\n",
       "<style scoped>\n",
       "    .dataframe tbody tr th:only-of-type {\n",
       "        vertical-align: middle;\n",
       "    }\n",
       "\n",
       "    .dataframe tbody tr th {\n",
       "        vertical-align: top;\n",
       "    }\n",
       "\n",
       "    .dataframe thead th {\n",
       "        text-align: right;\n",
       "    }\n",
       "</style>\n",
       "<table border=\"1\" class=\"dataframe\">\n",
       "  <thead>\n",
       "    <tr style=\"text-align: right;\">\n",
       "      <th></th>\n",
       "      <th>averageloanamount</th>\n",
       "      <th>minloanamount</th>\n",
       "      <th>maxloanamount</th>\n",
       "    </tr>\n",
       "    <tr>\n",
       "      <th>person_age_category</th>\n",
       "      <th></th>\n",
       "      <th></th>\n",
       "      <th></th>\n",
       "    </tr>\n",
       "  </thead>\n",
       "  <tbody>\n",
       "    <tr>\n",
       "      <th>18-35 years</th>\n",
       "      <td>9546.099064</td>\n",
       "      <td>500</td>\n",
       "      <td>35000</td>\n",
       "    </tr>\n",
       "    <tr>\n",
       "      <th>36-54 years</th>\n",
       "      <td>9979.464017</td>\n",
       "      <td>1000</td>\n",
       "      <td>35000</td>\n",
       "    </tr>\n",
       "    <tr>\n",
       "      <th>55plus</th>\n",
       "      <td>10356.156716</td>\n",
       "      <td>1000</td>\n",
       "      <td>35000</td>\n",
       "    </tr>\n",
       "  </tbody>\n",
       "</table>\n",
       "</div>"
      ],
      "text/plain": [
       "                     averageloanamount  minloanamount  maxloanamount\n",
       "person_age_category                                                 \n",
       "18-35 years                9546.099064            500          35000\n",
       "36-54 years                9979.464017           1000          35000\n",
       "55plus                    10356.156716           1000          35000"
      ]
     },
     "execution_count": 90,
     "metadata": {},
     "output_type": "execute_result"
    }
   ],
   "source": [
    "personage_loanamount = credit_risk_df.groupby('person_age_category' ).agg(\n",
    "    averageloanamount = ('loan_amnt', 'mean'),\n",
    "    minloanamount = ('loan_amnt', 'min'),\n",
    "    maxloanamount = ('loan_amnt', 'max')\n",
    " )\n",
    "personage_loanamount"
   ]
  },
  {
   "cell_type": "code",
   "execution_count": 91,
   "id": "fccb0c3a-9367-4b8f-9c42-5090f43ddb29",
   "metadata": {},
   "outputs": [
    {
     "data": {
      "text/plain": [
       "person_age_category\n",
       "18-35 years     9546.099064\n",
       "36-54 years     9979.464017\n",
       "55plus         10356.156716\n",
       "Name: loan_amnt, dtype: float64"
      ]
     },
     "execution_count": 91,
     "metadata": {},
     "output_type": "execute_result"
    }
   ],
   "source": [
    "#he above code and this return same output, the above might be more relevant if i have multiple aggregates\n",
    "personage_loanamount1 = credit_risk_df.groupby('person_age_category' )['loan_amnt'].mean()\n",
    "personage_loanamount1\n"
   ]
  },
  {
   "cell_type": "code",
   "execution_count": null,
   "id": "62b0479c-ee2c-4ae6-a31c-ca1ccfbced51",
   "metadata": {},
   "outputs": [],
   "source": []
  },
  {
   "cell_type": "code",
   "execution_count": 92,
   "id": "ad9c4d5d-0d43-4b83-bbe3-9c2de373f19e",
   "metadata": {
    "scrolled": true
   },
   "outputs": [
    {
     "data": {
      "image/png": "[encoded data removed]",
      "text/plain": [
       "<Figure size 800x500 with 1 Axes>"
      ]
     },
     "metadata": {},
     "output_type": "display_data"
    }
   ],
   "source": [
    "personage_loanamount1.plot(kind = 'line', color = ['blue'], figsize = (8, 5))\n",
    "plt.title('Average loan Amount by Age')\n",
    "plt.ylabel('Average Loan Amount')\n",
    "plt.xlabel('Age')\n",
    "plt.show( )"
   ]
  },
  {
   "cell_type": "markdown",
   "id": "35abbb87-6912-4690-88b9-8cf5d4c9ce90",
   "metadata": {},
   "source": [
    "# Risk of Default by Age"
   ]
  },
  {
   "cell_type": "code",
   "execution_count": 123,
   "id": "4a8883d6-bddc-49aa-83ba-5d3e3bf397ef",
   "metadata": {},
   "outputs": [
    {
     "data": {
      "text/plain": [
       "person_age_category\n",
       "18-35 years    0.219744\n",
       "36-54 years    0.208672\n",
       "55plus         0.238806\n",
       "Name: loan_status, dtype: float64"
      ]
     },
     "execution_count": 123,
     "metadata": {},
     "output_type": "execute_result"
    }
   ],
   "source": [
    "defaultrisk_age = credit_risk_df.groupby('person_age_category')['loan_status'].mean()\n",
    "defaultrisk_age"
   ]
  },
  {
   "cell_type": "code",
   "execution_count": 119,
   "id": "5d6e7b3c-d3c1-45d3-bd88-6b20a904fefd",
   "metadata": {},
   "outputs": [
    {
     "data": {
      "image/png": "[encoded data removed]",
      "text/plain": [
       "<Figure size 640x480 with 1 Axes>"
      ]
     },
     "metadata": {},
     "output_type": "display_data"
    }
   ],
   "source": [
    "defaultrisk_age.plot(color=['green'])\n",
    "plt.title('Likelihood of Default by Age')\n",
    "plt.ylabel('Default Rate')\n",
    "plt.xlabel('Age')\n",
    "plt.show()\n",
    "# from output, age is not a good scale for measuring risk of default\n"
   ]
  },
  {
   "cell_type": "code",
   "execution_count": 98,
   "id": "927def2b-c9a8-445b-a83f-cd05979251e2",
   "metadata": {},
   "outputs": [
    {
     "data": {
      "text/plain": [
       "'C:\\\\Users\\\\user'"
      ]
     },
     "execution_count": 98,
     "metadata": {},
     "output_type": "execute_result"
    }
   ],
   "source": [
    "import os\n",
    "os.getcwd()"
   ]
  },
  {
   "cell_type": "code",
   "execution_count": null,
   "id": "6b4e795a-5734-4478-bae3-26114368cd7b",
   "metadata": {},
   "outputs": [],
   "source": []
  },
  {
   "cell_type": "code",
   "execution_count": null,
   "id": "5c32a17d-2b78-47e3-a198-1484b8705d81",
   "metadata": {},
   "outputs": [],
   "source": []
  },
  {
   "cell_type": "code",
   "execution_count": null,
   "id": "3b46fcd2-fcc0-4804-a967-bd5a685f1a1e",
   "metadata": {},
   "outputs": [],
   "source": []
  }
 ],
 "metadata": {
  "kernelspec": {
   "display_name": "Python [conda env:base] *",
   "language": "python",
   "name": "conda-base-py"
  },
  "language_info": {
   "codemirror_mode": {
    "name": "ipython",
    "version": 3
   },
   "file_extension": ".py",
   "mimetype": "text/x-python",
   "name": "python",
   "nbconvert_exporter": "python",
   "pygments_lexer": "ipython3",
   "version": "3.12.7"
  }
 },
 "nbformat": 4,
 "nbformat_minor": 5
}
